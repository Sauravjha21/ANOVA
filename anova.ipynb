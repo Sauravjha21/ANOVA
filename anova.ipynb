{
 "cells": [
  {
   "cell_type": "code",
   "execution_count": 1,
   "id": "ed629230",
   "metadata": {},
   "outputs": [],
   "source": [
    "import pandas as pd\n",
    "import numpy as np \n",
    "import matplotlib.pyplot as plt \n",
    "import seaborn as sns \n",
    "pd.set_option('display.max_columns', 100) \n"
   ]
  },
  {
   "cell_type": "code",
   "execution_count": 2,
   "id": "420acd87",
   "metadata": {},
   "outputs": [
    {
     "data": {
      "text/html": [
       "<div>\n",
       "<style scoped>\n",
       "    .dataframe tbody tr th:only-of-type {\n",
       "        vertical-align: middle;\n",
       "    }\n",
       "\n",
       "    .dataframe tbody tr th {\n",
       "        vertical-align: top;\n",
       "    }\n",
       "\n",
       "    .dataframe thead th {\n",
       "        text-align: right;\n",
       "    }\n",
       "</style>\n",
       "<table border=\"1\" class=\"dataframe\">\n",
       "  <thead>\n",
       "    <tr style=\"text-align: right;\">\n",
       "      <th></th>\n",
       "      <th>ps_id</th>\n",
       "      <th>block</th>\n",
       "      <th>panchayat</th>\n",
       "      <th>age</th>\n",
       "      <th>category</th>\n",
       "      <th>education</th>\n",
       "      <th>duration</th>\n",
       "      <th>hhsurveyed</th>\n",
       "      <th>hhservicing</th>\n",
       "      <th>goat rearing</th>\n",
       "      <th>goat diseases</th>\n",
       "      <th>vaccination &amp; its management</th>\n",
       "      <th>nutrition</th>\n",
       "      <th>health &amp; management</th>\n",
       "      <th>gender perception</th>\n",
       "      <th>service delivery</th>\n",
       "      <th>interviewer's observation</th>\n",
       "      <th>aggregate marks</th>\n",
       "      <th>weighted average</th>\n",
       "      <th>overall grade</th>\n",
       "      <th>Districts</th>\n",
       "    </tr>\n",
       "  </thead>\n",
       "  <tbody>\n",
       "    <tr>\n",
       "      <th>0</th>\n",
       "      <td>100</td>\n",
       "      <td>GIRIYAK</td>\n",
       "      <td>Pokharpur</td>\n",
       "      <td>24</td>\n",
       "      <td>4</td>\n",
       "      <td>2</td>\n",
       "      <td>36</td>\n",
       "      <td>290</td>\n",
       "      <td>290</td>\n",
       "      <td>0.43</td>\n",
       "      <td>0.54</td>\n",
       "      <td>0.50</td>\n",
       "      <td>0.72</td>\n",
       "      <td>0.59</td>\n",
       "      <td>0.67</td>\n",
       "      <td>0.29</td>\n",
       "      <td>1.00</td>\n",
       "      <td>0.43</td>\n",
       "      <td>0.45</td>\n",
       "      <td>C</td>\n",
       "      <td>Nalanda</td>\n",
       "    </tr>\n",
       "    <tr>\n",
       "      <th>1</th>\n",
       "      <td>101</td>\n",
       "      <td>DAGARUA</td>\n",
       "      <td>Rampur  kochayli</td>\n",
       "      <td>30</td>\n",
       "      <td>4</td>\n",
       "      <td>2</td>\n",
       "      <td>30</td>\n",
       "      <td>40</td>\n",
       "      <td>40</td>\n",
       "      <td>0.64</td>\n",
       "      <td>0.55</td>\n",
       "      <td>0.75</td>\n",
       "      <td>0.59</td>\n",
       "      <td>0.60</td>\n",
       "      <td>0.67</td>\n",
       "      <td>0.48</td>\n",
       "      <td>0.75</td>\n",
       "      <td>0.57</td>\n",
       "      <td>0.60</td>\n",
       "      <td>B</td>\n",
       "      <td>Purnea</td>\n",
       "    </tr>\n",
       "    <tr>\n",
       "      <th>2</th>\n",
       "      <td>102</td>\n",
       "      <td>DAGARUA</td>\n",
       "      <td>Harkheli</td>\n",
       "      <td>24</td>\n",
       "      <td>3</td>\n",
       "      <td>1</td>\n",
       "      <td>48</td>\n",
       "      <td>60</td>\n",
       "      <td>40</td>\n",
       "      <td>0.89</td>\n",
       "      <td>0.64</td>\n",
       "      <td>0.75</td>\n",
       "      <td>0.75</td>\n",
       "      <td>0.69</td>\n",
       "      <td>0.50</td>\n",
       "      <td>0.71</td>\n",
       "      <td>0.50</td>\n",
       "      <td>0.70</td>\n",
       "      <td>0.67</td>\n",
       "      <td>B</td>\n",
       "      <td>Purnea</td>\n",
       "    </tr>\n",
       "  </tbody>\n",
       "</table>\n",
       "</div>"
      ],
      "text/plain": [
       "   ps_id    block         panchayat  age  category  education  duration  \\\n",
       "0    100  GIRIYAK         Pokharpur   24         4          2        36   \n",
       "1    101  DAGARUA  Rampur  kochayli   30         4          2        30   \n",
       "2    102  DAGARUA          Harkheli   24         3          1        48   \n",
       "\n",
       "   hhsurveyed  hhservicing   goat rearing    goat diseases  \\\n",
       "0         290          290            0.43            0.54   \n",
       "1          40           40            0.64            0.55   \n",
       "2          60           40            0.89            0.64   \n",
       "\n",
       "     vaccination & its management   nutrition   health & management  \\\n",
       "0                            0.50        0.72                  0.59   \n",
       "1                            0.75        0.59                  0.60   \n",
       "2                            0.75        0.75                  0.69   \n",
       "\n",
       "   gender perception  service delivery   interviewer's observation  \\\n",
       "0               0.67              0.29                        1.00   \n",
       "1               0.67              0.48                        0.75   \n",
       "2               0.50              0.71                        0.50   \n",
       "\n",
       "   aggregate marks  weighted average overall grade Districts  \n",
       "0             0.43              0.45             C   Nalanda  \n",
       "1             0.57              0.60             B    Purnea  \n",
       "2             0.70              0.67             B    Purnea  "
      ]
     },
     "execution_count": 2,
     "metadata": {},
     "output_type": "execute_result"
    }
   ],
   "source": [
    "df = pd.read_csv(\"grading_data.csv\")\n",
    "df.head(3)"
   ]
  },
  {
   "cell_type": "code",
   "execution_count": 3,
   "id": "e8d2c0bf",
   "metadata": {},
   "outputs": [
    {
     "data": {
      "text/plain": [
       "(200, 21)"
      ]
     },
     "execution_count": 3,
     "metadata": {},
     "output_type": "execute_result"
    }
   ],
   "source": [
    "df.shape"
   ]
  },
  {
   "cell_type": "code",
   "execution_count": 4,
   "id": "cc4ac9b8",
   "metadata": {},
   "outputs": [],
   "source": [
    "df[\"Category\"] = df.category.replace({1:\"SC\", 2:\"ST\",3:\"OBC\",4:\"EBC\",5:\"GEN\",6:\"others\"})"
   ]
  },
  {
   "cell_type": "code",
   "execution_count": 5,
   "id": "92efcd04",
   "metadata": {},
   "outputs": [],
   "source": [
    "df[\"Education\"] = df.education.replace({1:\"8th\",2:\"10th\",3:\"12th\",4:\"Graduate\",5:\"Post graduate\"})"
   ]
  },
  {
   "cell_type": "code",
   "execution_count": 6,
   "id": "2d3885b4",
   "metadata": {},
   "outputs": [],
   "source": [
    "from sklearn.preprocessing import LabelEncoder \n",
    "le =LabelEncoder()"
   ]
  },
  {
   "cell_type": "code",
   "execution_count": 57,
   "id": "31c9f01e",
   "metadata": {},
   "outputs": [
    {
     "data": {
      "text/html": [
       "<div>\n",
       "<style scoped>\n",
       "    .dataframe tbody tr th:only-of-type {\n",
       "        vertical-align: middle;\n",
       "    }\n",
       "\n",
       "    .dataframe tbody tr th {\n",
       "        vertical-align: top;\n",
       "    }\n",
       "\n",
       "    .dataframe thead th {\n",
       "        text-align: right;\n",
       "    }\n",
       "</style>\n",
       "<table border=\"1\" class=\"dataframe\">\n",
       "  <thead>\n",
       "    <tr style=\"text-align: right;\">\n",
       "      <th></th>\n",
       "      <th>ps_id</th>\n",
       "      <th>block</th>\n",
       "      <th>panchayat</th>\n",
       "      <th>age</th>\n",
       "      <th>category</th>\n",
       "      <th>education</th>\n",
       "      <th>duration</th>\n",
       "      <th>hhsurveyed</th>\n",
       "      <th>hhservicing</th>\n",
       "      <th>goat rearing</th>\n",
       "      <th>goat diseases</th>\n",
       "      <th>vaccination &amp; its management</th>\n",
       "      <th>nutrition</th>\n",
       "      <th>health &amp; management</th>\n",
       "      <th>gender perception</th>\n",
       "      <th>service delivery</th>\n",
       "      <th>interviewer's observation</th>\n",
       "      <th>aggregate marks</th>\n",
       "      <th>weighted average</th>\n",
       "      <th>overall grade</th>\n",
       "      <th>Districts</th>\n",
       "      <th>Category</th>\n",
       "      <th>Education</th>\n",
       "      <th>overall grades</th>\n",
       "      <th>districts</th>\n",
       "    </tr>\n",
       "  </thead>\n",
       "  <tbody>\n",
       "    <tr>\n",
       "      <th>0</th>\n",
       "      <td>100</td>\n",
       "      <td>GIRIYAK</td>\n",
       "      <td>Pokharpur</td>\n",
       "      <td>24</td>\n",
       "      <td>4</td>\n",
       "      <td>2</td>\n",
       "      <td>36</td>\n",
       "      <td>290</td>\n",
       "      <td>290</td>\n",
       "      <td>0.43</td>\n",
       "      <td>0.54</td>\n",
       "      <td>0.50</td>\n",
       "      <td>0.72</td>\n",
       "      <td>0.59</td>\n",
       "      <td>0.67</td>\n",
       "      <td>0.29</td>\n",
       "      <td>1.00</td>\n",
       "      <td>0.43</td>\n",
       "      <td>0.45</td>\n",
       "      <td>C</td>\n",
       "      <td>Nalanda</td>\n",
       "      <td>EBC</td>\n",
       "      <td>10th</td>\n",
       "      <td>2</td>\n",
       "      <td>3</td>\n",
       "    </tr>\n",
       "    <tr>\n",
       "      <th>1</th>\n",
       "      <td>101</td>\n",
       "      <td>DAGARUA</td>\n",
       "      <td>Rampur  kochayli</td>\n",
       "      <td>30</td>\n",
       "      <td>4</td>\n",
       "      <td>2</td>\n",
       "      <td>30</td>\n",
       "      <td>40</td>\n",
       "      <td>40</td>\n",
       "      <td>0.64</td>\n",
       "      <td>0.55</td>\n",
       "      <td>0.75</td>\n",
       "      <td>0.59</td>\n",
       "      <td>0.60</td>\n",
       "      <td>0.67</td>\n",
       "      <td>0.48</td>\n",
       "      <td>0.75</td>\n",
       "      <td>0.57</td>\n",
       "      <td>0.60</td>\n",
       "      <td>B</td>\n",
       "      <td>Purnea</td>\n",
       "      <td>EBC</td>\n",
       "      <td>10th</td>\n",
       "      <td>1</td>\n",
       "      <td>5</td>\n",
       "    </tr>\n",
       "    <tr>\n",
       "      <th>2</th>\n",
       "      <td>102</td>\n",
       "      <td>DAGARUA</td>\n",
       "      <td>Harkheli</td>\n",
       "      <td>24</td>\n",
       "      <td>3</td>\n",
       "      <td>1</td>\n",
       "      <td>48</td>\n",
       "      <td>60</td>\n",
       "      <td>40</td>\n",
       "      <td>0.89</td>\n",
       "      <td>0.64</td>\n",
       "      <td>0.75</td>\n",
       "      <td>0.75</td>\n",
       "      <td>0.69</td>\n",
       "      <td>0.50</td>\n",
       "      <td>0.71</td>\n",
       "      <td>0.50</td>\n",
       "      <td>0.70</td>\n",
       "      <td>0.67</td>\n",
       "      <td>B</td>\n",
       "      <td>Purnea</td>\n",
       "      <td>OBC</td>\n",
       "      <td>8th</td>\n",
       "      <td>1</td>\n",
       "      <td>5</td>\n",
       "    </tr>\n",
       "    <tr>\n",
       "      <th>3</th>\n",
       "      <td>103</td>\n",
       "      <td>SAKRA</td>\n",
       "      <td>Bharti pur</td>\n",
       "      <td>30</td>\n",
       "      <td>1</td>\n",
       "      <td>1</td>\n",
       "      <td>56</td>\n",
       "      <td>375</td>\n",
       "      <td>375</td>\n",
       "      <td>0.57</td>\n",
       "      <td>0.61</td>\n",
       "      <td>0.25</td>\n",
       "      <td>0.76</td>\n",
       "      <td>0.60</td>\n",
       "      <td>0.67</td>\n",
       "      <td>0.34</td>\n",
       "      <td>1.00</td>\n",
       "      <td>0.52</td>\n",
       "      <td>0.58</td>\n",
       "      <td>C</td>\n",
       "      <td>Muzaffarpur</td>\n",
       "      <td>SC</td>\n",
       "      <td>8th</td>\n",
       "      <td>2</td>\n",
       "      <td>2</td>\n",
       "    </tr>\n",
       "    <tr>\n",
       "      <th>4</th>\n",
       "      <td>104</td>\n",
       "      <td>WAZIRGANG</td>\n",
       "      <td>Sahiya</td>\n",
       "      <td>27</td>\n",
       "      <td>1</td>\n",
       "      <td>3</td>\n",
       "      <td>36</td>\n",
       "      <td>95</td>\n",
       "      <td>40</td>\n",
       "      <td>0.54</td>\n",
       "      <td>0.46</td>\n",
       "      <td>0.75</td>\n",
       "      <td>0.64</td>\n",
       "      <td>0.56</td>\n",
       "      <td>0.50</td>\n",
       "      <td>0.87</td>\n",
       "      <td>1.00</td>\n",
       "      <td>0.70</td>\n",
       "      <td>0.67</td>\n",
       "      <td>B</td>\n",
       "      <td>Gaya</td>\n",
       "      <td>SC</td>\n",
       "      <td>12th</td>\n",
       "      <td>1</td>\n",
       "      <td>1</td>\n",
       "    </tr>\n",
       "  </tbody>\n",
       "</table>\n",
       "</div>"
      ],
      "text/plain": [
       "   ps_id      block         panchayat  age  category  education  duration  \\\n",
       "0    100    GIRIYAK         Pokharpur   24         4          2        36   \n",
       "1    101    DAGARUA  Rampur  kochayli   30         4          2        30   \n",
       "2    102    DAGARUA          Harkheli   24         3          1        48   \n",
       "3    103      SAKRA        Bharti pur   30         1          1        56   \n",
       "4    104  WAZIRGANG            Sahiya   27         1          3        36   \n",
       "\n",
       "   hhsurveyed  hhservicing   goat rearing    goat diseases  \\\n",
       "0         290          290            0.43            0.54   \n",
       "1          40           40            0.64            0.55   \n",
       "2          60           40            0.89            0.64   \n",
       "3         375          375            0.57            0.61   \n",
       "4          95           40            0.54            0.46   \n",
       "\n",
       "     vaccination & its management   nutrition   health & management  \\\n",
       "0                            0.50        0.72                  0.59   \n",
       "1                            0.75        0.59                  0.60   \n",
       "2                            0.75        0.75                  0.69   \n",
       "3                            0.25        0.76                  0.60   \n",
       "4                            0.75        0.64                  0.56   \n",
       "\n",
       "   gender perception  service delivery   interviewer's observation  \\\n",
       "0               0.67              0.29                        1.00   \n",
       "1               0.67              0.48                        0.75   \n",
       "2               0.50              0.71                        0.50   \n",
       "3               0.67              0.34                        1.00   \n",
       "4               0.50              0.87                        1.00   \n",
       "\n",
       "   aggregate marks  weighted average overall grade    Districts Category  \\\n",
       "0             0.43              0.45             C      Nalanda      EBC   \n",
       "1             0.57              0.60             B       Purnea      EBC   \n",
       "2             0.70              0.67             B       Purnea      OBC   \n",
       "3             0.52              0.58             C  Muzaffarpur       SC   \n",
       "4             0.70              0.67             B         Gaya       SC   \n",
       "\n",
       "  Education  overall grades  districts  \n",
       "0      10th               2          3  \n",
       "1      10th               1          5  \n",
       "2       8th               1          5  \n",
       "3       8th               2          2  \n",
       "4      12th               1          1  "
      ]
     },
     "execution_count": 57,
     "metadata": {},
     "output_type": "execute_result"
    }
   ],
   "source": [
    "dfle = df\n",
    "dfle['overall grades'] = le.fit_transform(dfle['overall grade'])\n",
    "dfle['districts'] = le.fit_transform(dfle['Districts'])\n",
    "dfle.head(5)"
   ]
  },
  {
   "cell_type": "code",
   "execution_count": 8,
   "id": "3cd85a79",
   "metadata": {},
   "outputs": [
    {
     "data": {
      "text/html": [
       "<div>\n",
       "<style scoped>\n",
       "    .dataframe tbody tr th:only-of-type {\n",
       "        vertical-align: middle;\n",
       "    }\n",
       "\n",
       "    .dataframe tbody tr th {\n",
       "        vertical-align: top;\n",
       "    }\n",
       "\n",
       "    .dataframe thead th {\n",
       "        text-align: right;\n",
       "    }\n",
       "</style>\n",
       "<table border=\"1\" class=\"dataframe\">\n",
       "  <thead>\n",
       "    <tr style=\"text-align: right;\">\n",
       "      <th></th>\n",
       "      <th>ps_id</th>\n",
       "      <th>age</th>\n",
       "      <th>category</th>\n",
       "      <th>education</th>\n",
       "      <th>duration</th>\n",
       "      <th>hhsurveyed</th>\n",
       "      <th>hhservicing</th>\n",
       "      <th>goat rearing</th>\n",
       "      <th>goat diseases</th>\n",
       "      <th>vaccination &amp; its management</th>\n",
       "      <th>nutrition</th>\n",
       "      <th>health &amp; management</th>\n",
       "      <th>gender perception</th>\n",
       "      <th>service delivery</th>\n",
       "      <th>interviewer's observation</th>\n",
       "      <th>aggregate marks</th>\n",
       "      <th>weighted average</th>\n",
       "      <th>overall grades</th>\n",
       "      <th>districts</th>\n",
       "    </tr>\n",
       "  </thead>\n",
       "  <tbody>\n",
       "    <tr>\n",
       "      <th>count</th>\n",
       "      <td>200.000000</td>\n",
       "      <td>200.000000</td>\n",
       "      <td>200.000000</td>\n",
       "      <td>200.000000</td>\n",
       "      <td>200.000000</td>\n",
       "      <td>200.000000</td>\n",
       "      <td>200.000000</td>\n",
       "      <td>200.000000</td>\n",
       "      <td>200.000000</td>\n",
       "      <td>200.000000</td>\n",
       "      <td>200.000000</td>\n",
       "      <td>200.000000</td>\n",
       "      <td>200.000000</td>\n",
       "      <td>200.000000</td>\n",
       "      <td>200.000000</td>\n",
       "      <td>200.000000</td>\n",
       "      <td>200.000000</td>\n",
       "      <td>200.000000</td>\n",
       "      <td>200.000000</td>\n",
       "    </tr>\n",
       "    <tr>\n",
       "      <th>mean</th>\n",
       "      <td>199.500000</td>\n",
       "      <td>30.690000</td>\n",
       "      <td>1.880000</td>\n",
       "      <td>2.030000</td>\n",
       "      <td>69.705000</td>\n",
       "      <td>160.280000</td>\n",
       "      <td>129.975000</td>\n",
       "      <td>0.506600</td>\n",
       "      <td>0.500400</td>\n",
       "      <td>0.447500</td>\n",
       "      <td>0.547750</td>\n",
       "      <td>0.506650</td>\n",
       "      <td>0.611150</td>\n",
       "      <td>0.557750</td>\n",
       "      <td>0.902500</td>\n",
       "      <td>0.555850</td>\n",
       "      <td>0.579050</td>\n",
       "      <td>1.520000</td>\n",
       "      <td>2.850000</td>\n",
       "    </tr>\n",
       "    <tr>\n",
       "      <th>std</th>\n",
       "      <td>57.879185</td>\n",
       "      <td>6.502717</td>\n",
       "      <td>1.136688</td>\n",
       "      <td>1.026826</td>\n",
       "      <td>289.651424</td>\n",
       "      <td>86.551472</td>\n",
       "      <td>77.793338</td>\n",
       "      <td>0.157041</td>\n",
       "      <td>0.166507</td>\n",
       "      <td>0.226385</td>\n",
       "      <td>0.181801</td>\n",
       "      <td>0.146816</td>\n",
       "      <td>0.162729</td>\n",
       "      <td>0.214337</td>\n",
       "      <td>0.203286</td>\n",
       "      <td>0.122582</td>\n",
       "      <td>0.103101</td>\n",
       "      <td>0.782728</td>\n",
       "      <td>1.718215</td>\n",
       "    </tr>\n",
       "    <tr>\n",
       "      <th>min</th>\n",
       "      <td>100.000000</td>\n",
       "      <td>19.000000</td>\n",
       "      <td>1.000000</td>\n",
       "      <td>1.000000</td>\n",
       "      <td>3.000000</td>\n",
       "      <td>30.000000</td>\n",
       "      <td>20.000000</td>\n",
       "      <td>0.070000</td>\n",
       "      <td>0.110000</td>\n",
       "      <td>0.000000</td>\n",
       "      <td>0.030000</td>\n",
       "      <td>0.110000</td>\n",
       "      <td>0.330000</td>\n",
       "      <td>0.130000</td>\n",
       "      <td>0.000000</td>\n",
       "      <td>0.200000</td>\n",
       "      <td>0.260000</td>\n",
       "      <td>0.000000</td>\n",
       "      <td>0.000000</td>\n",
       "    </tr>\n",
       "    <tr>\n",
       "      <th>25%</th>\n",
       "      <td>149.750000</td>\n",
       "      <td>26.000000</td>\n",
       "      <td>1.000000</td>\n",
       "      <td>1.000000</td>\n",
       "      <td>36.000000</td>\n",
       "      <td>109.500000</td>\n",
       "      <td>40.000000</td>\n",
       "      <td>0.397500</td>\n",
       "      <td>0.380000</td>\n",
       "      <td>0.250000</td>\n",
       "      <td>0.427500</td>\n",
       "      <td>0.417500</td>\n",
       "      <td>0.500000</td>\n",
       "      <td>0.390000</td>\n",
       "      <td>1.000000</td>\n",
       "      <td>0.480000</td>\n",
       "      <td>0.517500</td>\n",
       "      <td>1.000000</td>\n",
       "      <td>2.000000</td>\n",
       "    </tr>\n",
       "    <tr>\n",
       "      <th>50%</th>\n",
       "      <td>199.500000</td>\n",
       "      <td>30.000000</td>\n",
       "      <td>1.000000</td>\n",
       "      <td>2.000000</td>\n",
       "      <td>40.000000</td>\n",
       "      <td>120.000000</td>\n",
       "      <td>120.000000</td>\n",
       "      <td>0.520000</td>\n",
       "      <td>0.500000</td>\n",
       "      <td>0.500000</td>\n",
       "      <td>0.550000</td>\n",
       "      <td>0.515000</td>\n",
       "      <td>0.670000</td>\n",
       "      <td>0.520000</td>\n",
       "      <td>1.000000</td>\n",
       "      <td>0.570000</td>\n",
       "      <td>0.585000</td>\n",
       "      <td>2.000000</td>\n",
       "      <td>2.000000</td>\n",
       "    </tr>\n",
       "    <tr>\n",
       "      <th>75%</th>\n",
       "      <td>249.250000</td>\n",
       "      <td>35.000000</td>\n",
       "      <td>3.000000</td>\n",
       "      <td>3.000000</td>\n",
       "      <td>48.000000</td>\n",
       "      <td>232.500000</td>\n",
       "      <td>198.500000</td>\n",
       "      <td>0.620000</td>\n",
       "      <td>0.630000</td>\n",
       "      <td>0.500000</td>\n",
       "      <td>0.662500</td>\n",
       "      <td>0.600000</td>\n",
       "      <td>0.670000</td>\n",
       "      <td>0.720000</td>\n",
       "      <td>1.000000</td>\n",
       "      <td>0.650000</td>\n",
       "      <td>0.650000</td>\n",
       "      <td>2.000000</td>\n",
       "      <td>5.000000</td>\n",
       "    </tr>\n",
       "    <tr>\n",
       "      <th>max</th>\n",
       "      <td>299.000000</td>\n",
       "      <td>62.000000</td>\n",
       "      <td>5.000000</td>\n",
       "      <td>4.000000</td>\n",
       "      <td>3637.000000</td>\n",
       "      <td>450.000000</td>\n",
       "      <td>375.000000</td>\n",
       "      <td>0.890000</td>\n",
       "      <td>0.890000</td>\n",
       "      <td>1.000000</td>\n",
       "      <td>1.000000</td>\n",
       "      <td>0.900000</td>\n",
       "      <td>1.000000</td>\n",
       "      <td>0.950000</td>\n",
       "      <td>1.000000</td>\n",
       "      <td>0.850000</td>\n",
       "      <td>0.820000</td>\n",
       "      <td>3.000000</td>\n",
       "      <td>6.000000</td>\n",
       "    </tr>\n",
       "  </tbody>\n",
       "</table>\n",
       "</div>"
      ],
      "text/plain": [
       "            ps_id         age    category   education     duration  \\\n",
       "count  200.000000  200.000000  200.000000  200.000000   200.000000   \n",
       "mean   199.500000   30.690000    1.880000    2.030000    69.705000   \n",
       "std     57.879185    6.502717    1.136688    1.026826   289.651424   \n",
       "min    100.000000   19.000000    1.000000    1.000000     3.000000   \n",
       "25%    149.750000   26.000000    1.000000    1.000000    36.000000   \n",
       "50%    199.500000   30.000000    1.000000    2.000000    40.000000   \n",
       "75%    249.250000   35.000000    3.000000    3.000000    48.000000   \n",
       "max    299.000000   62.000000    5.000000    4.000000  3637.000000   \n",
       "\n",
       "       hhsurveyed  hhservicing   goat rearing    goat diseases  \\\n",
       "count  200.000000   200.000000      200.000000      200.000000   \n",
       "mean   160.280000   129.975000        0.506600        0.500400   \n",
       "std     86.551472    77.793338        0.157041        0.166507   \n",
       "min     30.000000    20.000000        0.070000        0.110000   \n",
       "25%    109.500000    40.000000        0.397500        0.380000   \n",
       "50%    120.000000   120.000000        0.520000        0.500000   \n",
       "75%    232.500000   198.500000        0.620000        0.630000   \n",
       "max    450.000000   375.000000        0.890000        0.890000   \n",
       "\n",
       "         vaccination & its management   nutrition   health & management  \\\n",
       "count                      200.000000  200.000000            200.000000   \n",
       "mean                         0.447500    0.547750              0.506650   \n",
       "std                          0.226385    0.181801              0.146816   \n",
       "min                          0.000000    0.030000              0.110000   \n",
       "25%                          0.250000    0.427500              0.417500   \n",
       "50%                          0.500000    0.550000              0.515000   \n",
       "75%                          0.500000    0.662500              0.600000   \n",
       "max                          1.000000    1.000000              0.900000   \n",
       "\n",
       "       gender perception  service delivery   interviewer's observation  \\\n",
       "count         200.000000        200.000000                  200.000000   \n",
       "mean            0.611150          0.557750                    0.902500   \n",
       "std             0.162729          0.214337                    0.203286   \n",
       "min             0.330000          0.130000                    0.000000   \n",
       "25%             0.500000          0.390000                    1.000000   \n",
       "50%             0.670000          0.520000                    1.000000   \n",
       "75%             0.670000          0.720000                    1.000000   \n",
       "max             1.000000          0.950000                    1.000000   \n",
       "\n",
       "       aggregate marks  weighted average  overall grades   districts  \n",
       "count       200.000000        200.000000      200.000000  200.000000  \n",
       "mean          0.555850          0.579050        1.520000    2.850000  \n",
       "std           0.122582          0.103101        0.782728    1.718215  \n",
       "min           0.200000          0.260000        0.000000    0.000000  \n",
       "25%           0.480000          0.517500        1.000000    2.000000  \n",
       "50%           0.570000          0.585000        2.000000    2.000000  \n",
       "75%           0.650000          0.650000        2.000000    5.000000  \n",
       "max           0.850000          0.820000        3.000000    6.000000  "
      ]
     },
     "execution_count": 8,
     "metadata": {},
     "output_type": "execute_result"
    }
   ],
   "source": [
    "dfle.describe()"
   ]
  },
  {
   "cell_type": "code",
   "execution_count": 9,
   "id": "6d5a2b3f",
   "metadata": {},
   "outputs": [],
   "source": [
    "correlation = round(dfle.corr(),2)"
   ]
  },
  {
   "cell_type": "code",
   "execution_count": 10,
   "id": "af613a7f",
   "metadata": {},
   "outputs": [
    {
     "data": {
      "image/png": "[encoded data removed]",
      "text/plain": [
       "<Figure size 864x864 with 2 Axes>"
      ]
     },
     "metadata": {
      "needs_background": "light"
     },
     "output_type": "display_data"
    }
   ],
   "source": [
    "plt.figure(figsize=(12,12))\n",
    "sns.heatmap(correlation,annot =True)\n",
    "plt.savefig(\"cor.pdf\")"
   ]
  },
  {
   "cell_type": "code",
   "execution_count": 11,
   "id": "5ba86cac",
   "metadata": {
    "scrolled": true
   },
   "outputs": [],
   "source": [
    "##sns.pairplot(df)"
   ]
  },
  {
   "cell_type": "code",
   "execution_count": 12,
   "id": "d523f1ed",
   "metadata": {},
   "outputs": [
    {
     "name": "stderr",
     "output_type": "stream",
     "text": [
      "C:\\Users\\hp\\anaconda3\\anaconda\\lib\\site-packages\\seaborn\\_decorators.py:36: FutureWarning: Pass the following variable as a keyword arg: x. From version 0.12, the only valid positional argument will be `data`, and passing other arguments without an explicit keyword will result in an error or misinterpretation.\n",
      "  warnings.warn(\n"
     ]
    },
    {
     "data": {
      "image/png": "[encoded data removed]",
      "text/plain": [
       "<Figure size 576x432 with 1 Axes>"
      ]
     },
     "metadata": {
      "needs_background": "light"
     },
     "output_type": "display_data"
    }
   ],
   "source": [
    "## number of pashu sakhi sampled from every district\n",
    "plt.figure(figsize=(8,6))\n",
    "sns.set_theme(style=\"darkgrid\")\n",
    "sns.countplot(dfle[\"Districts\"])\n",
    "plt.xlabel('Districts')\n",
    "plt.ylabel('Number of Pashu Sakhi')\n",
    "plt.savefig(\"number.pdf\")"
   ]
  },
  {
   "cell_type": "code",
   "execution_count": 13,
   "id": "597624fd",
   "metadata": {},
   "outputs": [
    {
     "name": "stderr",
     "output_type": "stream",
     "text": [
      "C:\\Users\\hp\\anaconda3\\anaconda\\lib\\site-packages\\seaborn\\_decorators.py:36: FutureWarning: Pass the following variable as a keyword arg: x. From version 0.12, the only valid positional argument will be `data`, and passing other arguments without an explicit keyword will result in an error or misinterpretation.\n",
      "  warnings.warn(\n"
     ]
    },
    {
     "data": {
      "image/png": "[encoded data removed]",
      "text/plain": [
       "<Figure size 576x432 with 1 Axes>"
      ]
     },
     "metadata": {},
     "output_type": "display_data"
    }
   ],
   "source": [
    "## Educational profile of the pashu sakhi \n",
    "plt.figure(figsize=(8,6))\n",
    "sns.set_theme(style=\"darkgrid\")\n",
    "sns.countplot(dfle[\"Education\"])\n",
    "plt.xlabel('Educational Qualification')\n",
    "plt.ylabel('Number of Pashu Sakhi')\n",
    "plt.savefig(\"education.pdf\")"
   ]
  },
  {
   "cell_type": "code",
   "execution_count": 14,
   "id": "6012bbd3",
   "metadata": {},
   "outputs": [
    {
     "data": {
      "image/png": "[encoded data removed]",
      "text/plain": [
       "<Figure size 720x576 with 1 Axes>"
      ]
     },
     "metadata": {},
     "output_type": "display_data"
    }
   ],
   "source": [
    "## Break up of educational qualification \n",
    "plt.figure(figsize=(10,8))\n",
    "sns.set_theme(style=\"darkgrid\")\n",
    "sns.countplot(x=\"Districts\", hue=\"Education\", data=dfle)\n",
    "plt.xlabel(\"Educational Qualification\")\n",
    "plt.ylabel(\"Number of pashu sakhi\")\n",
    "plt.savefig(\"district.pdf\")"
   ]
  },
  {
   "cell_type": "code",
   "execution_count": 15,
   "id": "6986596c",
   "metadata": {},
   "outputs": [
    {
     "data": {
      "image/png": "[encoded data removed]",
      "text/plain": [
       "<Figure size 576x432 with 1 Axes>"
      ]
     },
     "metadata": {},
     "output_type": "display_data"
    }
   ],
   "source": [
    "## Comparison of distribution of marks scored by pashu sakhis in every districts \n",
    "## We can see the difference among the districbution of performances of pashu sakhi across the districts \n",
    "plt.figure(figsize=(8,6))\n",
    "sns.boxplot(x=dfle['Districts'], y=dfle['weighted average'])\n",
    "plt.savefig(\"score.pdf\")"
   ]
  },
  {
   "cell_type": "code",
   "execution_count": 16,
   "id": "bfcfeaee",
   "metadata": {},
   "outputs": [],
   "source": [
    "## ANOVA test on districts as an independent variable "
   ]
  },
  {
   "cell_type": "code",
   "execution_count": 17,
   "id": "bb1ded18",
   "metadata": {},
   "outputs": [
    {
     "data": {
      "image/png": "[encoded data removed]",
      "text/plain": [
       "<Figure size 576x432 with 1 Axes>"
      ]
     },
     "metadata": {},
     "output_type": "display_data"
    }
   ],
   "source": [
    "## comparison of distribution of weighted average marks scored according to educational qualification \n",
    "plt.figure(figsize=(8,6))\n",
    "sns.set_theme(style=\"white\", palette=None)\n",
    "sns.boxplot(x=dfle['Education'],y=dfle['weighted average'])\n",
    "plt.savefig(\"marks.pdf\")"
   ]
  },
  {
   "cell_type": "code",
   "execution_count": 18,
   "id": "fedc9209",
   "metadata": {},
   "outputs": [
    {
     "data": {
      "image/png": "[encoded data removed]",
      "text/plain": [
       "<Figure size 576x360 with 1 Axes>"
      ]
     },
     "metadata": {},
     "output_type": "display_data"
    }
   ],
   "source": [
    "plt.figure(figsize=(8,5))\n",
    "sns.boxplot(x=dfle['Category'], y=dfle['weighted average'])\n",
    "plt.savefig(\"category.pdf\")"
   ]
  },
  {
   "cell_type": "code",
   "execution_count": 19,
   "id": "e41a24e0",
   "metadata": {},
   "outputs": [],
   "source": [
    "## anova test on education as an independent variable "
   ]
  },
  {
   "cell_type": "code",
   "execution_count": 20,
   "id": "8e5d1848",
   "metadata": {},
   "outputs": [
    {
     "data": {
      "image/png": "[encoded data removed]",
      "text/plain": [
       "<Figure size 432x288 with 1 Axes>"
      ]
     },
     "metadata": {},
     "output_type": "display_data"
    }
   ],
   "source": [
    "## distribution of the age of the pashu sakhis who were part of the study \n",
    "sns.set_theme(style=\"darkgrid\")\n",
    "sns.histplot(dfle[\"age\"],bins=8)\n",
    "plt.xlabel(\"Age\")\n",
    "plt.ylabel(\"Number of Pashu Sakhi\")\n",
    "plt.savefig(\"age.pdf\")"
   ]
  },
  {
   "cell_type": "code",
   "execution_count": 21,
   "id": "48467309",
   "metadata": {},
   "outputs": [
    {
     "name": "stderr",
     "output_type": "stream",
     "text": [
      "C:\\Users\\hp\\anaconda3\\anaconda\\lib\\site-packages\\seaborn\\_decorators.py:36: FutureWarning: Pass the following variable as a keyword arg: x. From version 0.12, the only valid positional argument will be `data`, and passing other arguments without an explicit keyword will result in an error or misinterpretation.\n",
      "  warnings.warn(\n"
     ]
    },
    {
     "data": {
      "image/png": "[encoded data removed]",
      "text/plain": [
       "<Figure size 576x432 with 1 Axes>"
      ]
     },
     "metadata": {},
     "output_type": "display_data"
    }
   ],
   "source": [
    "## count of pashu sakhi according to their grades\n",
    "plt.figure(figsize=(8,6))\n",
    "sns.set_theme(style=\"darkgrid\")\n",
    "sns.countplot(dfle[\"overall grade\"])\n",
    "plt.xlabel('Grades')\n",
    "plt.ylabel('Number of pashu sakhi')\n",
    "plt.savefig(\"gradescount.pdf\")"
   ]
  },
  {
   "cell_type": "code",
   "execution_count": 22,
   "id": "9da0e366",
   "metadata": {},
   "outputs": [
    {
     "data": {
      "image/png": "[encoded data removed]",
      "text/plain": [
       "<Figure size 720x576 with 1 Axes>"
      ]
     },
     "metadata": {},
     "output_type": "display_data"
    }
   ],
   "source": [
    "## pashu sakhi according to their grades in different districts\n",
    "plt.figure(figsize=(10,8))\n",
    "sns.set_theme(style=\"darkgrid\")\n",
    "sns.countplot(x=\"Districts\", hue=\"overall grade\", data=dfle)\n",
    "plt.savefig(\"gradecountdistrictwise.pdf\")"
   ]
  },
  {
   "cell_type": "code",
   "execution_count": 23,
   "id": "5661c56b",
   "metadata": {},
   "outputs": [
    {
     "data": {
      "text/html": [
       "<div>\n",
       "<style scoped>\n",
       "    .dataframe tbody tr th:only-of-type {\n",
       "        vertical-align: middle;\n",
       "    }\n",
       "\n",
       "    .dataframe tbody tr th {\n",
       "        vertical-align: top;\n",
       "    }\n",
       "\n",
       "    .dataframe thead th {\n",
       "        text-align: right;\n",
       "    }\n",
       "</style>\n",
       "<table border=\"1\" class=\"dataframe\">\n",
       "  <thead>\n",
       "    <tr style=\"text-align: right;\">\n",
       "      <th>overall grade</th>\n",
       "      <th>A</th>\n",
       "      <th>B</th>\n",
       "      <th>C</th>\n",
       "      <th>D</th>\n",
       "    </tr>\n",
       "    <tr>\n",
       "      <th>Education</th>\n",
       "      <th></th>\n",
       "      <th></th>\n",
       "      <th></th>\n",
       "      <th></th>\n",
       "    </tr>\n",
       "  </thead>\n",
       "  <tbody>\n",
       "    <tr>\n",
       "      <th>10th</th>\n",
       "      <td>5</td>\n",
       "      <td>14</td>\n",
       "      <td>36</td>\n",
       "      <td>7</td>\n",
       "    </tr>\n",
       "    <tr>\n",
       "      <th>12th</th>\n",
       "      <td>4</td>\n",
       "      <td>13</td>\n",
       "      <td>18</td>\n",
       "      <td>1</td>\n",
       "    </tr>\n",
       "    <tr>\n",
       "      <th>8th</th>\n",
       "      <td>10</td>\n",
       "      <td>28</td>\n",
       "      <td>38</td>\n",
       "      <td>2</td>\n",
       "    </tr>\n",
       "    <tr>\n",
       "      <th>Graduate</th>\n",
       "      <td>5</td>\n",
       "      <td>5</td>\n",
       "      <td>12</td>\n",
       "      <td>2</td>\n",
       "    </tr>\n",
       "  </tbody>\n",
       "</table>\n",
       "</div>"
      ],
      "text/plain": [
       "overall grade   A   B   C  D\n",
       "Education                   \n",
       "10th            5  14  36  7\n",
       "12th            4  13  18  1\n",
       "8th            10  28  38  2\n",
       "Graduate        5   5  12  2"
      ]
     },
     "execution_count": 23,
     "metadata": {},
     "output_type": "execute_result"
    }
   ],
   "source": [
    "## use of cross tab to look at the relationship between overall grade and educational attainment \n",
    "cf = pd.crosstab(dfle[\"Education\"],dfle[\"overall grade\"])\n",
    "cf"
   ]
  },
  {
   "cell_type": "code",
   "execution_count": 24,
   "id": "9f7e3d9a",
   "metadata": {},
   "outputs": [
    {
     "data": {
      "text/html": [
       "<div>\n",
       "<style scoped>\n",
       "    .dataframe tbody tr th:only-of-type {\n",
       "        vertical-align: middle;\n",
       "    }\n",
       "\n",
       "    .dataframe tbody tr th {\n",
       "        vertical-align: top;\n",
       "    }\n",
       "\n",
       "    .dataframe thead th {\n",
       "        text-align: right;\n",
       "    }\n",
       "</style>\n",
       "<table border=\"1\" class=\"dataframe\">\n",
       "  <thead>\n",
       "    <tr style=\"text-align: right;\">\n",
       "      <th></th>\n",
       "      <th>overall grade</th>\n",
       "      <th>A</th>\n",
       "      <th>B</th>\n",
       "      <th>C</th>\n",
       "      <th>D</th>\n",
       "    </tr>\n",
       "    <tr>\n",
       "      <th>Districts</th>\n",
       "      <th>Education</th>\n",
       "      <th></th>\n",
       "      <th></th>\n",
       "      <th></th>\n",
       "      <th></th>\n",
       "    </tr>\n",
       "  </thead>\n",
       "  <tbody>\n",
       "    <tr>\n",
       "      <th rowspan=\"4\" valign=\"top\">Araria</th>\n",
       "      <th>10th</th>\n",
       "      <td>0.0</td>\n",
       "      <td>1.0</td>\n",
       "      <td>2.0</td>\n",
       "      <td>0.0</td>\n",
       "    </tr>\n",
       "    <tr>\n",
       "      <th>12th</th>\n",
       "      <td>0.0</td>\n",
       "      <td>0.0</td>\n",
       "      <td>4.0</td>\n",
       "      <td>0.0</td>\n",
       "    </tr>\n",
       "    <tr>\n",
       "      <th>8th</th>\n",
       "      <td>0.0</td>\n",
       "      <td>1.0</td>\n",
       "      <td>0.0</td>\n",
       "      <td>0.0</td>\n",
       "    </tr>\n",
       "    <tr>\n",
       "      <th>Graduate</th>\n",
       "      <td>0.0</td>\n",
       "      <td>0.0</td>\n",
       "      <td>1.0</td>\n",
       "      <td>0.0</td>\n",
       "    </tr>\n",
       "    <tr>\n",
       "      <th rowspan=\"4\" valign=\"top\">Gaya</th>\n",
       "      <th>10th</th>\n",
       "      <td>3.0</td>\n",
       "      <td>3.0</td>\n",
       "      <td>1.0</td>\n",
       "      <td>0.0</td>\n",
       "    </tr>\n",
       "    <tr>\n",
       "      <th>12th</th>\n",
       "      <td>1.0</td>\n",
       "      <td>2.0</td>\n",
       "      <td>0.0</td>\n",
       "      <td>0.0</td>\n",
       "    </tr>\n",
       "    <tr>\n",
       "      <th>8th</th>\n",
       "      <td>1.0</td>\n",
       "      <td>4.0</td>\n",
       "      <td>0.0</td>\n",
       "      <td>0.0</td>\n",
       "    </tr>\n",
       "    <tr>\n",
       "      <th>Graduate</th>\n",
       "      <td>2.0</td>\n",
       "      <td>2.0</td>\n",
       "      <td>0.0</td>\n",
       "      <td>0.0</td>\n",
       "    </tr>\n",
       "    <tr>\n",
       "      <th rowspan=\"4\" valign=\"top\">Muzaffarpur</th>\n",
       "      <th>10th</th>\n",
       "      <td>1.0</td>\n",
       "      <td>8.0</td>\n",
       "      <td>18.0</td>\n",
       "      <td>1.0</td>\n",
       "    </tr>\n",
       "    <tr>\n",
       "      <th>12th</th>\n",
       "      <td>2.0</td>\n",
       "      <td>6.0</td>\n",
       "      <td>5.0</td>\n",
       "      <td>0.0</td>\n",
       "    </tr>\n",
       "    <tr>\n",
       "      <th>8th</th>\n",
       "      <td>8.0</td>\n",
       "      <td>16.0</td>\n",
       "      <td>29.0</td>\n",
       "      <td>0.0</td>\n",
       "    </tr>\n",
       "    <tr>\n",
       "      <th>Graduate</th>\n",
       "      <td>1.0</td>\n",
       "      <td>2.0</td>\n",
       "      <td>4.0</td>\n",
       "      <td>0.0</td>\n",
       "    </tr>\n",
       "    <tr>\n",
       "      <th rowspan=\"4\" valign=\"top\">Nalanda</th>\n",
       "      <th>10th</th>\n",
       "      <td>0.0</td>\n",
       "      <td>0.0</td>\n",
       "      <td>3.0</td>\n",
       "      <td>1.0</td>\n",
       "    </tr>\n",
       "    <tr>\n",
       "      <th>12th</th>\n",
       "      <td>0.0</td>\n",
       "      <td>0.0</td>\n",
       "      <td>1.0</td>\n",
       "      <td>0.0</td>\n",
       "    </tr>\n",
       "    <tr>\n",
       "      <th>8th</th>\n",
       "      <td>0.0</td>\n",
       "      <td>0.0</td>\n",
       "      <td>1.0</td>\n",
       "      <td>2.0</td>\n",
       "    </tr>\n",
       "    <tr>\n",
       "      <th>Graduate</th>\n",
       "      <td>0.0</td>\n",
       "      <td>0.0</td>\n",
       "      <td>2.0</td>\n",
       "      <td>0.0</td>\n",
       "    </tr>\n",
       "    <tr>\n",
       "      <th rowspan=\"4\" valign=\"top\">Nawada</th>\n",
       "      <th>10th</th>\n",
       "      <td>0.0</td>\n",
       "      <td>0.0</td>\n",
       "      <td>3.0</td>\n",
       "      <td>2.0</td>\n",
       "    </tr>\n",
       "    <tr>\n",
       "      <th>12th</th>\n",
       "      <td>0.0</td>\n",
       "      <td>0.0</td>\n",
       "      <td>0.0</td>\n",
       "      <td>1.0</td>\n",
       "    </tr>\n",
       "    <tr>\n",
       "      <th>8th</th>\n",
       "      <td>0.0</td>\n",
       "      <td>0.0</td>\n",
       "      <td>1.0</td>\n",
       "      <td>0.0</td>\n",
       "    </tr>\n",
       "    <tr>\n",
       "      <th>Graduate</th>\n",
       "      <td>0.0</td>\n",
       "      <td>0.0</td>\n",
       "      <td>1.0</td>\n",
       "      <td>2.0</td>\n",
       "    </tr>\n",
       "    <tr>\n",
       "      <th rowspan=\"4\" valign=\"top\">Purnea</th>\n",
       "      <th>10th</th>\n",
       "      <td>1.0</td>\n",
       "      <td>1.0</td>\n",
       "      <td>3.0</td>\n",
       "      <td>0.0</td>\n",
       "    </tr>\n",
       "    <tr>\n",
       "      <th>12th</th>\n",
       "      <td>1.0</td>\n",
       "      <td>3.0</td>\n",
       "      <td>5.0</td>\n",
       "      <td>0.0</td>\n",
       "    </tr>\n",
       "    <tr>\n",
       "      <th>8th</th>\n",
       "      <td>1.0</td>\n",
       "      <td>5.0</td>\n",
       "      <td>3.0</td>\n",
       "      <td>0.0</td>\n",
       "    </tr>\n",
       "    <tr>\n",
       "      <th>Graduate</th>\n",
       "      <td>2.0</td>\n",
       "      <td>1.0</td>\n",
       "      <td>1.0</td>\n",
       "      <td>0.0</td>\n",
       "    </tr>\n",
       "    <tr>\n",
       "      <th rowspan=\"4\" valign=\"top\">Rohtas</th>\n",
       "      <th>10th</th>\n",
       "      <td>0.0</td>\n",
       "      <td>1.0</td>\n",
       "      <td>6.0</td>\n",
       "      <td>3.0</td>\n",
       "    </tr>\n",
       "    <tr>\n",
       "      <th>12th</th>\n",
       "      <td>0.0</td>\n",
       "      <td>2.0</td>\n",
       "      <td>3.0</td>\n",
       "      <td>0.0</td>\n",
       "    </tr>\n",
       "    <tr>\n",
       "      <th>8th</th>\n",
       "      <td>0.0</td>\n",
       "      <td>2.0</td>\n",
       "      <td>4.0</td>\n",
       "      <td>0.0</td>\n",
       "    </tr>\n",
       "    <tr>\n",
       "      <th>Graduate</th>\n",
       "      <td>0.0</td>\n",
       "      <td>0.0</td>\n",
       "      <td>3.0</td>\n",
       "      <td>0.0</td>\n",
       "    </tr>\n",
       "  </tbody>\n",
       "</table>\n",
       "</div>"
      ],
      "text/plain": [
       "overall grade            A     B     C    D\n",
       "Districts   Education                      \n",
       "Araria      10th       0.0   1.0   2.0  0.0\n",
       "            12th       0.0   0.0   4.0  0.0\n",
       "            8th        0.0   1.0   0.0  0.0\n",
       "            Graduate   0.0   0.0   1.0  0.0\n",
       "Gaya        10th       3.0   3.0   1.0  0.0\n",
       "            12th       1.0   2.0   0.0  0.0\n",
       "            8th        1.0   4.0   0.0  0.0\n",
       "            Graduate   2.0   2.0   0.0  0.0\n",
       "Muzaffarpur 10th       1.0   8.0  18.0  1.0\n",
       "            12th       2.0   6.0   5.0  0.0\n",
       "            8th        8.0  16.0  29.0  0.0\n",
       "            Graduate   1.0   2.0   4.0  0.0\n",
       "Nalanda     10th       0.0   0.0   3.0  1.0\n",
       "            12th       0.0   0.0   1.0  0.0\n",
       "            8th        0.0   0.0   1.0  2.0\n",
       "            Graduate   0.0   0.0   2.0  0.0\n",
       "Nawada      10th       0.0   0.0   3.0  2.0\n",
       "            12th       0.0   0.0   0.0  1.0\n",
       "            8th        0.0   0.0   1.0  0.0\n",
       "            Graduate   0.0   0.0   1.0  2.0\n",
       "Purnea      10th       1.0   1.0   3.0  0.0\n",
       "            12th       1.0   3.0   5.0  0.0\n",
       "            8th        1.0   5.0   3.0  0.0\n",
       "            Graduate   2.0   1.0   1.0  0.0\n",
       "Rohtas      10th       0.0   1.0   6.0  3.0\n",
       "            12th       0.0   2.0   3.0  0.0\n",
       "            8th        0.0   2.0   4.0  0.0\n",
       "            Graduate   0.0   0.0   3.0  0.0"
      ]
     },
     "execution_count": 24,
     "metadata": {},
     "output_type": "execute_result"
    }
   ],
   "source": [
    "df.groupby([\"Districts\",\"Education\",\"overall grade\"]).size().unstack().fillna(0)"
   ]
  },
  {
   "cell_type": "code",
   "execution_count": 25,
   "id": "3296f2c4",
   "metadata": {},
   "outputs": [
    {
     "data": {
      "text/plain": [
       "array([3, 5, 2, 1, 6, 0, 4])"
      ]
     },
     "execution_count": 25,
     "metadata": {},
     "output_type": "execute_result"
    }
   ],
   "source": [
    "dfle[\"districts\"].unique()"
   ]
  },
  {
   "cell_type": "code",
   "execution_count": 26,
   "id": "ba8e7cb0",
   "metadata": {},
   "outputs": [
    {
     "data": {
      "text/html": [
       "<div>\n",
       "<style scoped>\n",
       "    .dataframe tbody tr th:only-of-type {\n",
       "        vertical-align: middle;\n",
       "    }\n",
       "\n",
       "    .dataframe tbody tr th {\n",
       "        vertical-align: top;\n",
       "    }\n",
       "\n",
       "    .dataframe thead th {\n",
       "        text-align: right;\n",
       "    }\n",
       "</style>\n",
       "<table border=\"1\" class=\"dataframe\">\n",
       "  <thead>\n",
       "    <tr style=\"text-align: right;\">\n",
       "      <th></th>\n",
       "      <th>ps_id</th>\n",
       "      <th>block</th>\n",
       "      <th>panchayat</th>\n",
       "      <th>age</th>\n",
       "      <th>category</th>\n",
       "      <th>education</th>\n",
       "      <th>duration</th>\n",
       "      <th>hhsurveyed</th>\n",
       "      <th>hhservicing</th>\n",
       "      <th>goat rearing</th>\n",
       "      <th>goat diseases</th>\n",
       "      <th>vaccination &amp; its management</th>\n",
       "      <th>nutrition</th>\n",
       "      <th>health &amp; management</th>\n",
       "      <th>gender perception</th>\n",
       "      <th>service delivery</th>\n",
       "      <th>interviewer's observation</th>\n",
       "      <th>aggregate marks</th>\n",
       "      <th>weighted average</th>\n",
       "      <th>overall grade</th>\n",
       "      <th>Districts</th>\n",
       "      <th>Category</th>\n",
       "      <th>Education</th>\n",
       "      <th>overall grades</th>\n",
       "      <th>districts</th>\n",
       "    </tr>\n",
       "  </thead>\n",
       "  <tbody>\n",
       "    <tr>\n",
       "      <th>1</th>\n",
       "      <td>101</td>\n",
       "      <td>DAGARUA</td>\n",
       "      <td>Rampur  kochayli</td>\n",
       "      <td>30</td>\n",
       "      <td>4</td>\n",
       "      <td>2</td>\n",
       "      <td>30</td>\n",
       "      <td>40</td>\n",
       "      <td>40</td>\n",
       "      <td>0.64</td>\n",
       "      <td>0.55</td>\n",
       "      <td>0.75</td>\n",
       "      <td>0.59</td>\n",
       "      <td>0.60</td>\n",
       "      <td>0.67</td>\n",
       "      <td>0.48</td>\n",
       "      <td>0.75</td>\n",
       "      <td>0.57</td>\n",
       "      <td>0.60</td>\n",
       "      <td>B</td>\n",
       "      <td>Purnea</td>\n",
       "      <td>EBC</td>\n",
       "      <td>10th</td>\n",
       "      <td>1</td>\n",
       "      <td>5</td>\n",
       "    </tr>\n",
       "    <tr>\n",
       "      <th>2</th>\n",
       "      <td>102</td>\n",
       "      <td>DAGARUA</td>\n",
       "      <td>Harkheli</td>\n",
       "      <td>24</td>\n",
       "      <td>3</td>\n",
       "      <td>1</td>\n",
       "      <td>48</td>\n",
       "      <td>60</td>\n",
       "      <td>40</td>\n",
       "      <td>0.89</td>\n",
       "      <td>0.64</td>\n",
       "      <td>0.75</td>\n",
       "      <td>0.75</td>\n",
       "      <td>0.69</td>\n",
       "      <td>0.50</td>\n",
       "      <td>0.71</td>\n",
       "      <td>0.50</td>\n",
       "      <td>0.70</td>\n",
       "      <td>0.67</td>\n",
       "      <td>B</td>\n",
       "      <td>Purnea</td>\n",
       "      <td>OBC</td>\n",
       "      <td>8th</td>\n",
       "      <td>1</td>\n",
       "      <td>5</td>\n",
       "    </tr>\n",
       "    <tr>\n",
       "      <th>5</th>\n",
       "      <td>105</td>\n",
       "      <td>DAGARUA</td>\n",
       "      <td>Rampur kochaili dagarua</td>\n",
       "      <td>24</td>\n",
       "      <td>3</td>\n",
       "      <td>1</td>\n",
       "      <td>18</td>\n",
       "      <td>40</td>\n",
       "      <td>40</td>\n",
       "      <td>0.71</td>\n",
       "      <td>0.63</td>\n",
       "      <td>0.75</td>\n",
       "      <td>1.00</td>\n",
       "      <td>0.76</td>\n",
       "      <td>0.33</td>\n",
       "      <td>0.69</td>\n",
       "      <td>1.00</td>\n",
       "      <td>0.71</td>\n",
       "      <td>0.67</td>\n",
       "      <td>B</td>\n",
       "      <td>Purnea</td>\n",
       "      <td>OBC</td>\n",
       "      <td>8th</td>\n",
       "      <td>1</td>\n",
       "      <td>5</td>\n",
       "    </tr>\n",
       "  </tbody>\n",
       "</table>\n",
       "</div>"
      ],
      "text/plain": [
       "   ps_id    block                panchayat  age  category  education  \\\n",
       "1    101  DAGARUA         Rampur  kochayli   30         4          2   \n",
       "2    102  DAGARUA                 Harkheli   24         3          1   \n",
       "5    105  DAGARUA  Rampur kochaili dagarua   24         3          1   \n",
       "\n",
       "   duration  hhsurveyed  hhservicing   goat rearing    goat diseases  \\\n",
       "1        30          40           40            0.64            0.55   \n",
       "2        48          60           40            0.89            0.64   \n",
       "5        18          40           40            0.71            0.63   \n",
       "\n",
       "     vaccination & its management   nutrition   health & management  \\\n",
       "1                            0.75        0.59                  0.60   \n",
       "2                            0.75        0.75                  0.69   \n",
       "5                            0.75        1.00                  0.76   \n",
       "\n",
       "   gender perception  service delivery   interviewer's observation  \\\n",
       "1               0.67              0.48                        0.75   \n",
       "2               0.50              0.71                        0.50   \n",
       "5               0.33              0.69                        1.00   \n",
       "\n",
       "   aggregate marks  weighted average overall grade Districts Category  \\\n",
       "1             0.57              0.60             B    Purnea      EBC   \n",
       "2             0.70              0.67             B    Purnea      OBC   \n",
       "5             0.71              0.67             B    Purnea      OBC   \n",
       "\n",
       "  Education  overall grades  districts  \n",
       "1      10th               1          5  \n",
       "2       8th               1          5  \n",
       "5       8th               1          5  "
      ]
     },
     "execution_count": 26,
     "metadata": {},
     "output_type": "execute_result"
    }
   ],
   "source": [
    "## detailed analysis of purnea district\n",
    "pf = dfle[dfle.districts == 5]                     ## Purnea\n",
    "zf = dfle[dfle.districts==2]                       ## Muzaffarpur \n",
    "nf =  dfle[dfle.districts==3]                      ## Nalanda\n",
    "rf =   dfle[dfle.districts==6]                     ## Rohtas\n",
    "gf =  dfle[dfle.districts==1]                      ## Gaya\n",
    "na =  dfle[dfle.districts==0]                      ## Araria\n",
    "pf.head(3)"
   ]
  },
  {
   "cell_type": "code",
   "execution_count": 27,
   "id": "f0238e44",
   "metadata": {},
   "outputs": [
    {
     "data": {
      "text/plain": [
       "Text(0, 0.5, 'Number Of Pashu Sakhi')"
      ]
     },
     "execution_count": 27,
     "metadata": {},
     "output_type": "execute_result"
    },
    {
     "data": {
      "image/png": "[encoded data removed]",
      "text/plain": [
       "<Figure size 720x576 with 1 Axes>"
      ]
     },
     "metadata": {},
     "output_type": "display_data"
    }
   ],
   "source": [
    "plt.figure(figsize=(10,8))\n",
    "sns.set_theme(style=\"darkgrid\")\n",
    "sns.countplot(x=\"block\", hue=\"overall grades\", data=pf)\n",
    "plt.xlabel(\"Blocks\")\n",
    "plt.ylabel(\"Number Of Pashu Sakhi\")"
   ]
  },
  {
   "cell_type": "code",
   "execution_count": 28,
   "id": "08f7797d",
   "metadata": {},
   "outputs": [
    {
     "data": {
      "text/plain": [
       "array(['DAGARUA', 'PURNEA_EAST'], dtype=object)"
      ]
     },
     "execution_count": 28,
     "metadata": {},
     "output_type": "execute_result"
    }
   ],
   "source": [
    "pf[\"block\"].unique()"
   ]
  },
  {
   "cell_type": "code",
   "execution_count": 29,
   "id": "2fef8223",
   "metadata": {},
   "outputs": [],
   "source": [
    "## Hypothesis testing "
   ]
  },
  {
   "cell_type": "code",
   "execution_count": 30,
   "id": "b2dbbc15",
   "metadata": {},
   "outputs": [
    {
     "data": {
      "text/html": [
       "<div>\n",
       "<style scoped>\n",
       "    .dataframe tbody tr th:only-of-type {\n",
       "        vertical-align: middle;\n",
       "    }\n",
       "\n",
       "    .dataframe tbody tr th {\n",
       "        vertical-align: top;\n",
       "    }\n",
       "\n",
       "    .dataframe thead th {\n",
       "        text-align: right;\n",
       "    }\n",
       "</style>\n",
       "<table border=\"1\" class=\"dataframe\">\n",
       "  <thead>\n",
       "    <tr style=\"text-align: right;\">\n",
       "      <th></th>\n",
       "      <th>ps_id</th>\n",
       "      <th>block</th>\n",
       "      <th>panchayat</th>\n",
       "      <th>age</th>\n",
       "      <th>category</th>\n",
       "      <th>education</th>\n",
       "      <th>duration</th>\n",
       "      <th>hhsurveyed</th>\n",
       "      <th>hhservicing</th>\n",
       "      <th>goat rearing</th>\n",
       "      <th>goat diseases</th>\n",
       "      <th>vaccination &amp; its management</th>\n",
       "      <th>nutrition</th>\n",
       "      <th>health &amp; management</th>\n",
       "      <th>gender perception</th>\n",
       "      <th>service delivery</th>\n",
       "      <th>interviewer's observation</th>\n",
       "      <th>aggregate marks</th>\n",
       "      <th>weighted average</th>\n",
       "      <th>overall grade</th>\n",
       "      <th>Districts</th>\n",
       "      <th>Category</th>\n",
       "      <th>Education</th>\n",
       "      <th>overall grades</th>\n",
       "      <th>districts</th>\n",
       "    </tr>\n",
       "  </thead>\n",
       "  <tbody>\n",
       "    <tr>\n",
       "      <th>13</th>\n",
       "      <td>113</td>\n",
       "      <td>BIKRAMGANJ</td>\n",
       "      <td>Khayara Bhudhar</td>\n",
       "      <td>30</td>\n",
       "      <td>3</td>\n",
       "      <td>1</td>\n",
       "      <td>47</td>\n",
       "      <td>141</td>\n",
       "      <td>141</td>\n",
       "      <td>0.53</td>\n",
       "      <td>0.23</td>\n",
       "      <td>0.50</td>\n",
       "      <td>0.71</td>\n",
       "      <td>0.42</td>\n",
       "      <td>0.67</td>\n",
       "      <td>0.20</td>\n",
       "      <td>1.00</td>\n",
       "      <td>0.40</td>\n",
       "      <td>0.49</td>\n",
       "      <td>C</td>\n",
       "      <td>Rohtas</td>\n",
       "      <td>OBC</td>\n",
       "      <td>8th</td>\n",
       "      <td>2</td>\n",
       "      <td>6</td>\n",
       "    </tr>\n",
       "    <tr>\n",
       "      <th>17</th>\n",
       "      <td>117</td>\n",
       "      <td>AKHORIGOLA</td>\n",
       "      <td>Chandi</td>\n",
       "      <td>32</td>\n",
       "      <td>1</td>\n",
       "      <td>1</td>\n",
       "      <td>36</td>\n",
       "      <td>120</td>\n",
       "      <td>120</td>\n",
       "      <td>0.54</td>\n",
       "      <td>0.32</td>\n",
       "      <td>0.25</td>\n",
       "      <td>0.67</td>\n",
       "      <td>0.42</td>\n",
       "      <td>0.83</td>\n",
       "      <td>0.83</td>\n",
       "      <td>1.00</td>\n",
       "      <td>0.66</td>\n",
       "      <td>0.68</td>\n",
       "      <td>B</td>\n",
       "      <td>Rohtas</td>\n",
       "      <td>SC</td>\n",
       "      <td>8th</td>\n",
       "      <td>1</td>\n",
       "      <td>6</td>\n",
       "    </tr>\n",
       "    <tr>\n",
       "      <th>35</th>\n",
       "      <td>135</td>\n",
       "      <td>BIKRAMGANJ</td>\n",
       "      <td>Jamori</td>\n",
       "      <td>40</td>\n",
       "      <td>1</td>\n",
       "      <td>3</td>\n",
       "      <td>2017</td>\n",
       "      <td>120</td>\n",
       "      <td>150</td>\n",
       "      <td>0.53</td>\n",
       "      <td>0.38</td>\n",
       "      <td>0.25</td>\n",
       "      <td>0.58</td>\n",
       "      <td>0.42</td>\n",
       "      <td>0.33</td>\n",
       "      <td>0.83</td>\n",
       "      <td>0.75</td>\n",
       "      <td>0.61</td>\n",
       "      <td>0.55</td>\n",
       "      <td>C</td>\n",
       "      <td>Rohtas</td>\n",
       "      <td>SC</td>\n",
       "      <td>12th</td>\n",
       "      <td>2</td>\n",
       "      <td>6</td>\n",
       "    </tr>\n",
       "    <tr>\n",
       "      <th>50</th>\n",
       "      <td>150</td>\n",
       "      <td>AKHORIGOLA</td>\n",
       "      <td>Tetrar</td>\n",
       "      <td>25</td>\n",
       "      <td>1</td>\n",
       "      <td>2</td>\n",
       "      <td>36</td>\n",
       "      <td>40</td>\n",
       "      <td>40</td>\n",
       "      <td>0.43</td>\n",
       "      <td>0.27</td>\n",
       "      <td>0.00</td>\n",
       "      <td>0.56</td>\n",
       "      <td>0.32</td>\n",
       "      <td>0.50</td>\n",
       "      <td>0.38</td>\n",
       "      <td>1.00</td>\n",
       "      <td>0.41</td>\n",
       "      <td>0.45</td>\n",
       "      <td>C</td>\n",
       "      <td>Rohtas</td>\n",
       "      <td>SC</td>\n",
       "      <td>10th</td>\n",
       "      <td>2</td>\n",
       "      <td>6</td>\n",
       "    </tr>\n",
       "    <tr>\n",
       "      <th>51</th>\n",
       "      <td>151</td>\n",
       "      <td>BIKRAMGANJ</td>\n",
       "      <td>Mohani</td>\n",
       "      <td>25</td>\n",
       "      <td>1</td>\n",
       "      <td>2</td>\n",
       "      <td>48</td>\n",
       "      <td>120</td>\n",
       "      <td>120</td>\n",
       "      <td>0.59</td>\n",
       "      <td>0.46</td>\n",
       "      <td>0.00</td>\n",
       "      <td>0.62</td>\n",
       "      <td>0.44</td>\n",
       "      <td>0.33</td>\n",
       "      <td>0.86</td>\n",
       "      <td>1.00</td>\n",
       "      <td>0.65</td>\n",
       "      <td>0.60</td>\n",
       "      <td>B</td>\n",
       "      <td>Rohtas</td>\n",
       "      <td>SC</td>\n",
       "      <td>10th</td>\n",
       "      <td>1</td>\n",
       "      <td>6</td>\n",
       "    </tr>\n",
       "  </tbody>\n",
       "</table>\n",
       "</div>"
      ],
      "text/plain": [
       "    ps_id       block        panchayat  age  category  education  duration  \\\n",
       "13    113  BIKRAMGANJ  Khayara Bhudhar   30         3          1        47   \n",
       "17    117  AKHORIGOLA           Chandi   32         1          1        36   \n",
       "35    135  BIKRAMGANJ           Jamori   40         1          3      2017   \n",
       "50    150  AKHORIGOLA           Tetrar   25         1          2        36   \n",
       "51    151  BIKRAMGANJ           Mohani   25         1          2        48   \n",
       "\n",
       "    hhsurveyed  hhservicing   goat rearing    goat diseases  \\\n",
       "13         141          141            0.53            0.23   \n",
       "17         120          120            0.54            0.32   \n",
       "35         120          150            0.53            0.38   \n",
       "50          40           40            0.43            0.27   \n",
       "51         120          120            0.59            0.46   \n",
       "\n",
       "      vaccination & its management   nutrition   health & management  \\\n",
       "13                            0.50        0.71                  0.42   \n",
       "17                            0.25        0.67                  0.42   \n",
       "35                            0.25        0.58                  0.42   \n",
       "50                            0.00        0.56                  0.32   \n",
       "51                            0.00        0.62                  0.44   \n",
       "\n",
       "    gender perception  service delivery   interviewer's observation  \\\n",
       "13               0.67              0.20                        1.00   \n",
       "17               0.83              0.83                        1.00   \n",
       "35               0.33              0.83                        0.75   \n",
       "50               0.50              0.38                        1.00   \n",
       "51               0.33              0.86                        1.00   \n",
       "\n",
       "    aggregate marks  weighted average overall grade Districts Category  \\\n",
       "13             0.40              0.49             C    Rohtas      OBC   \n",
       "17             0.66              0.68             B    Rohtas       SC   \n",
       "35             0.61              0.55             C    Rohtas       SC   \n",
       "50             0.41              0.45             C    Rohtas       SC   \n",
       "51             0.65              0.60             B    Rohtas       SC   \n",
       "\n",
       "   Education  overall grades  districts  \n",
       "13       8th               2          6  \n",
       "17       8th               1          6  \n",
       "35      12th               2          6  \n",
       "50      10th               2          6  \n",
       "51      10th               1          6  "
      ]
     },
     "execution_count": 30,
     "metadata": {},
     "output_type": "execute_result"
    }
   ],
   "source": [
    "rf.head()"
   ]
  },
  {
   "cell_type": "code",
   "execution_count": 31,
   "id": "86275407",
   "metadata": {},
   "outputs": [],
   "source": [
    "## testing the hypothesis \n",
    "## mean of atleast one distict is different from other \n",
    "meanP = pf[\"weighted average\"].mean()\n",
    "meanZ= zf[\"weighted average\"].mean()\n",
    "meanN = nf[\"weighted average\"].mean()\n",
    "meanR = nf[\"weighted average\"].mean()\n",
    "meanA = gf[\"weighted average\"].mean()\n",
    "meanG = rf[\"weighted average\"].mean()\n"
   ]
  },
  {
   "cell_type": "code",
   "execution_count": 32,
   "id": "1abd7d15",
   "metadata": {},
   "outputs": [
    {
     "data": {
      "text/plain": [
       "[0.6233333333333335,\n",
       " 0.5935643564356439,\n",
       " 0.43500000000000005,\n",
       " 0.43500000000000005,\n",
       " 0.6894736842105263,\n",
       " 0.5175]"
      ]
     },
     "execution_count": 32,
     "metadata": {},
     "output_type": "execute_result"
    }
   ],
   "source": [
    "means = [meanP,meanZ,meanN,meanR,meanA,meanG]\n",
    "means"
   ]
  },
  {
   "cell_type": "code",
   "execution_count": 33,
   "id": "e4ad3c98",
   "metadata": {},
   "outputs": [],
   "source": [
    "import scipy.stats as stats \n",
    "from statsmodels.formula.api import ols\n",
    "import statsmodels.api as sm "
   ]
  },
  {
   "cell_type": "code",
   "execution_count": 34,
   "id": "4c431420",
   "metadata": {},
   "outputs": [],
   "source": [
    "model = ols('age~districts', data = dfle).fit()"
   ]
  },
  {
   "cell_type": "code",
   "execution_count": 35,
   "id": "84660107",
   "metadata": {},
   "outputs": [
    {
     "name": "stdout",
     "output_type": "stream",
     "text": [
      "              df       sum_sq    mean_sq        F    PR(>F)\n",
      "districts    1.0     1.089515   1.089515  0.02564  0.872947\n",
      "Residual   198.0  8413.690485  42.493386      NaN       NaN\n"
     ]
    }
   ],
   "source": [
    "annova_result = sm.stats.anova_lm(model,typ=1)\n",
    "print(annova_result)"
   ]
  },
  {
   "cell_type": "code",
   "execution_count": 36,
   "id": "293f847f",
   "metadata": {},
   "outputs": [
    {
     "data": {
      "text/plain": [
       "F_onewayResult(statistic=3426.644236793346, pvalue=1.16566655093739e-197)"
      ]
     },
     "execution_count": 36,
     "metadata": {},
     "output_type": "execute_result"
    }
   ],
   "source": [
    "stats.f_oneway(dfle[\"age\"],dfle[\"districts\"])"
   ]
  },
  {
   "cell_type": "code",
   "execution_count": 63,
   "id": "b0cb8707",
   "metadata": {
    "scrolled": true
   },
   "outputs": [
    {
     "data": {
      "text/html": [
       "<div>\n",
       "<style scoped>\n",
       "    .dataframe tbody tr th:only-of-type {\n",
       "        vertical-align: middle;\n",
       "    }\n",
       "\n",
       "    .dataframe tbody tr th {\n",
       "        vertical-align: top;\n",
       "    }\n",
       "\n",
       "    .dataframe thead th {\n",
       "        text-align: right;\n",
       "    }\n",
       "</style>\n",
       "<table border=\"1\" class=\"dataframe\">\n",
       "  <thead>\n",
       "    <tr style=\"text-align: right;\">\n",
       "      <th></th>\n",
       "      <th>ps_id</th>\n",
       "      <th>block</th>\n",
       "      <th>panchayat</th>\n",
       "      <th>age</th>\n",
       "      <th>category</th>\n",
       "      <th>education</th>\n",
       "      <th>duration</th>\n",
       "      <th>hhsurveyed</th>\n",
       "      <th>hhservicing</th>\n",
       "      <th>goat rearing</th>\n",
       "      <th>goat diseases</th>\n",
       "      <th>vaccination &amp; its management</th>\n",
       "      <th>nutrition</th>\n",
       "      <th>health &amp; management</th>\n",
       "      <th>gender perception</th>\n",
       "      <th>service delivery</th>\n",
       "      <th>interviewer's observation</th>\n",
       "      <th>aggregate marks</th>\n",
       "      <th>weighted_average</th>\n",
       "      <th>overall grade</th>\n",
       "      <th>Districts</th>\n",
       "      <th>Category</th>\n",
       "      <th>Education</th>\n",
       "      <th>overall grades</th>\n",
       "      <th>districts</th>\n",
       "    </tr>\n",
       "  </thead>\n",
       "  <tbody>\n",
       "    <tr>\n",
       "      <th>0</th>\n",
       "      <td>100</td>\n",
       "      <td>GIRIYAK</td>\n",
       "      <td>Pokharpur</td>\n",
       "      <td>24</td>\n",
       "      <td>4</td>\n",
       "      <td>2</td>\n",
       "      <td>36</td>\n",
       "      <td>290</td>\n",
       "      <td>290</td>\n",
       "      <td>0.43</td>\n",
       "      <td>0.54</td>\n",
       "      <td>0.50</td>\n",
       "      <td>0.72</td>\n",
       "      <td>0.59</td>\n",
       "      <td>0.67</td>\n",
       "      <td>0.29</td>\n",
       "      <td>1.00</td>\n",
       "      <td>0.43</td>\n",
       "      <td>0.45</td>\n",
       "      <td>C</td>\n",
       "      <td>Nalanda</td>\n",
       "      <td>EBC</td>\n",
       "      <td>10th</td>\n",
       "      <td>2</td>\n",
       "      <td>3</td>\n",
       "    </tr>\n",
       "    <tr>\n",
       "      <th>1</th>\n",
       "      <td>101</td>\n",
       "      <td>DAGARUA</td>\n",
       "      <td>Rampur  kochayli</td>\n",
       "      <td>30</td>\n",
       "      <td>4</td>\n",
       "      <td>2</td>\n",
       "      <td>30</td>\n",
       "      <td>40</td>\n",
       "      <td>40</td>\n",
       "      <td>0.64</td>\n",
       "      <td>0.55</td>\n",
       "      <td>0.75</td>\n",
       "      <td>0.59</td>\n",
       "      <td>0.60</td>\n",
       "      <td>0.67</td>\n",
       "      <td>0.48</td>\n",
       "      <td>0.75</td>\n",
       "      <td>0.57</td>\n",
       "      <td>0.60</td>\n",
       "      <td>B</td>\n",
       "      <td>Purnea</td>\n",
       "      <td>EBC</td>\n",
       "      <td>10th</td>\n",
       "      <td>1</td>\n",
       "      <td>5</td>\n",
       "    </tr>\n",
       "    <tr>\n",
       "      <th>2</th>\n",
       "      <td>102</td>\n",
       "      <td>DAGARUA</td>\n",
       "      <td>Harkheli</td>\n",
       "      <td>24</td>\n",
       "      <td>3</td>\n",
       "      <td>1</td>\n",
       "      <td>48</td>\n",
       "      <td>60</td>\n",
       "      <td>40</td>\n",
       "      <td>0.89</td>\n",
       "      <td>0.64</td>\n",
       "      <td>0.75</td>\n",
       "      <td>0.75</td>\n",
       "      <td>0.69</td>\n",
       "      <td>0.50</td>\n",
       "      <td>0.71</td>\n",
       "      <td>0.50</td>\n",
       "      <td>0.70</td>\n",
       "      <td>0.67</td>\n",
       "      <td>B</td>\n",
       "      <td>Purnea</td>\n",
       "      <td>OBC</td>\n",
       "      <td>8th</td>\n",
       "      <td>1</td>\n",
       "      <td>5</td>\n",
       "    </tr>\n",
       "  </tbody>\n",
       "</table>\n",
       "</div>"
      ],
      "text/plain": [
       "   ps_id    block         panchayat  age  category  education  duration  \\\n",
       "0    100  GIRIYAK         Pokharpur   24         4          2        36   \n",
       "1    101  DAGARUA  Rampur  kochayli   30         4          2        30   \n",
       "2    102  DAGARUA          Harkheli   24         3          1        48   \n",
       "\n",
       "   hhsurveyed  hhservicing   goat rearing    goat diseases  \\\n",
       "0         290          290            0.43            0.54   \n",
       "1          40           40            0.64            0.55   \n",
       "2          60           40            0.89            0.64   \n",
       "\n",
       "     vaccination & its management   nutrition   health & management  \\\n",
       "0                            0.50        0.72                  0.59   \n",
       "1                            0.75        0.59                  0.60   \n",
       "2                            0.75        0.75                  0.69   \n",
       "\n",
       "   gender perception  service delivery   interviewer's observation  \\\n",
       "0               0.67              0.29                        1.00   \n",
       "1               0.67              0.48                        0.75   \n",
       "2               0.50              0.71                        0.50   \n",
       "\n",
       "   aggregate marks  weighted_average overall grade Districts Category  \\\n",
       "0             0.43              0.45             C   Nalanda      EBC   \n",
       "1             0.57              0.60             B    Purnea      EBC   \n",
       "2             0.70              0.67             B    Purnea      OBC   \n",
       "\n",
       "  Education  overall grades  districts  \n",
       "0      10th               2          3  \n",
       "1      10th               1          5  \n",
       "2       8th               1          5  "
      ]
     },
     "execution_count": 63,
     "metadata": {},
     "output_type": "execute_result"
    }
   ],
   "source": [
    "dfle = dfle.rename(columns={'weighted average': 'weighted_average'})\n",
    "dfle.head(3)"
   ]
  },
  {
   "cell_type": "code",
   "execution_count": 64,
   "id": "c2ce741c",
   "metadata": {},
   "outputs": [
    {
     "data": {
      "text/plain": [
       "F_onewayResult(statistic=348.12038719339967, pvalue=2.8430972062163543e-56)"
      ]
     },
     "execution_count": 64,
     "metadata": {},
     "output_type": "execute_result"
    }
   ],
   "source": [
    "stats.f_oneway(dfle['weighted_average'],dfle['districts'])\n",
    "## F Statistic is really high and Pvalue is very small(due to e raise to the power negative number ) so we can conclude\n",
    "## that the mean of weighted average differs across the districts"
   ]
  },
  {
   "cell_type": "code",
   "execution_count": 39,
   "id": "358e5472",
   "metadata": {},
   "outputs": [
    {
     "name": "stdout",
     "output_type": "stream",
     "text": [
      "            sum_sq     df          F    PR(>F)\n",
      "districts  0.13844    1.0  13.865824  0.000256\n",
      "Residual   1.97688  198.0        NaN       NaN\n"
     ]
    }
   ],
   "source": [
    "model = ols('weighted_average~districts', data = dfle).fit()\n",
    "anova_result = sm.stats.anova_lm(model, typ=2)\n",
    "print(anova_result)\n",
    "## Here p value is significant(less than 0.05)hence mean of atleast one of the district is different from other "
   ]
  },
  {
   "cell_type": "code",
   "execution_count": 40,
   "id": "1601c10f",
   "metadata": {},
   "outputs": [
    {
     "data": {
      "text/plain": [
       "ShapiroResult(statistic=0.9921023845672607, pvalue=0.35296544432640076)"
      ]
     },
     "execution_count": 40,
     "metadata": {},
     "output_type": "execute_result"
    }
   ],
   "source": [
    "import scipy.stats as stats\n",
    "stats.shapiro(model.resid)\n",
    "## Null hypothesis: data is drawn from normal distribution.\n",
    "## the test indicates that the output is nonsiginficant hence weighted average score is normally distributed \n",
    "## As P value is large we fail to reject the null hypthesis and assume that residuals are normally distributed "
   ]
  },
  {
   "cell_type": "code",
   "execution_count": 41,
   "id": "0d126a1d",
   "metadata": {},
   "outputs": [
    {
     "data": {
      "image/png": "[encoded data removed]",
      "text/plain": [
       "<Figure size 432x288 with 1 Axes>"
      ]
     },
     "metadata": {},
     "output_type": "display_data"
    }
   ],
   "source": [
    "stat = stats.probplot(model.resid, plot= plt, rvalue= True)\n",
    "## it is reasonable to assume that assumption of normality was met \n",
    "## As the standardized residuals lie around the 45-degree line, it suggests that the residuals are approximately normally distributed"
   ]
  },
  {
   "cell_type": "code",
   "execution_count": 42,
   "id": "af2a4dcb",
   "metadata": {},
   "outputs": [
    {
     "data": {
      "image/png": "[encoded data removed]",
      "text/plain": [
       "<Figure size 432x288 with 1 Axes>"
      ]
     },
     "metadata": {},
     "output_type": "display_data"
    }
   ],
   "source": [
    "plt.hist(model.resid, bins='auto', histtype='bar', ec='k') \n",
    "plt.xlabel(\"Residuals\")\n",
    "plt.ylabel('Frequency')\n",
    "plt.show()"
   ]
  },
  {
   "cell_type": "code",
   "execution_count": 43,
   "id": "b79e6e73",
   "metadata": {},
   "outputs": [
    {
     "name": "stdout",
     "output_type": "stream",
     "text": [
      "0.7189998488872775\n"
     ]
    }
   ],
   "source": [
    "## Null hypothesis - weighted average has equal variance\n",
    "from scipy.stats import levene\n",
    "stat, p = levene(pf[\"weighted average\"],zf[\"weighted average\"],nf[\"weighted average\"],na[\"weighted average\"])\n",
    "print(p)\n",
    "## P value is too high hence we cant reject the null hypothesis "
   ]
  },
  {
   "cell_type": "code",
   "execution_count": 44,
   "id": "a3e2e890",
   "metadata": {},
   "outputs": [],
   "source": [
    "## perform post-hoc test \n",
    "## to know which one of the pairs in the group is causing the significant result "
   ]
  },
  {
   "cell_type": "code",
   "execution_count": 45,
   "id": "faa5c884",
   "metadata": {},
   "outputs": [
    {
     "name": "stdout",
     "output_type": "stream",
     "text": [
      "Requirement already satisfied: bioinfokit in c:\\users\\hp\\anaconda3\\anaconda\\lib\\site-packages (2.0.8)\n",
      "Requirement already satisfied: scikit-learn in c:\\users\\hp\\anaconda3\\anaconda\\lib\\site-packages (from bioinfokit) (0.24.1)\n",
      "Requirement already satisfied: tabulate in c:\\users\\hp\\anaconda3\\anaconda\\lib\\site-packages (from bioinfokit) (0.8.9)\n",
      "Requirement already satisfied: adjustText in c:\\users\\hp\\anaconda3\\anaconda\\lib\\site-packages (from bioinfokit) (0.7.3)\n",
      "Requirement already satisfied: matplotlib in c:\\users\\hp\\anaconda3\\anaconda\\lib\\site-packages (from bioinfokit) (3.4.3)\n",
      "Requirement already satisfied: pandas in c:\\users\\hp\\anaconda3\\anaconda\\lib\\site-packages (from bioinfokit) (1.2.4)\n",
      "Requirement already satisfied: scipy in c:\\users\\hp\\anaconda3\\anaconda\\lib\\site-packages (from bioinfokit) (1.6.2)\n",
      "Requirement already satisfied: matplotlib-venn in c:\\users\\hp\\anaconda3\\anaconda\\lib\\site-packages (from bioinfokit) (0.11.6)\n",
      "Requirement already satisfied: statsmodels in c:\\users\\hp\\anaconda3\\anaconda\\lib\\site-packages (from bioinfokit) (0.12.2)\n",
      "Requirement already satisfied: seaborn in c:\\users\\hp\\anaconda3\\anaconda\\lib\\site-packages (from bioinfokit) (0.11.1)\n",
      "Requirement already satisfied: textwrap3 in c:\\users\\hp\\anaconda3\\anaconda\\lib\\site-packages (from bioinfokit) (0.9.2)\n",
      "Requirement already satisfied: numpy in c:\\users\\hp\\anaconda3\\anaconda\\lib\\site-packages (from bioinfokit) (1.20.1)\n",
      "Requirement already satisfied: pyparsing>=2.2.1 in c:\\users\\hp\\anaconda3\\anaconda\\lib\\site-packages (from matplotlib->bioinfokit) (2.4.7)\n",
      "Requirement already satisfied: kiwisolver>=1.0.1 in c:\\users\\hp\\anaconda3\\anaconda\\lib\\site-packages (from matplotlib->bioinfokit) (1.3.1)\n",
      "Requirement already satisfied: pillow>=6.2.0 in c:\\users\\hp\\anaconda3\\anaconda\\lib\\site-packages (from matplotlib->bioinfokit) (8.2.0)\n",
      "Requirement already satisfied: cycler>=0.10 in c:\\users\\hp\\anaconda3\\anaconda\\lib\\site-packages (from matplotlib->bioinfokit) (0.10.0)\n",
      "Requirement already satisfied: python-dateutil>=2.7 in c:\\users\\hp\\anaconda3\\anaconda\\lib\\site-packages (from matplotlib->bioinfokit) (2.8.1)\n",
      "Requirement already satisfied: six in c:\\users\\hp\\anaconda3\\anaconda\\lib\\site-packages (from cycler>=0.10->matplotlib->bioinfokit) (1.15.0)\n",
      "Requirement already satisfied: pytz>=2017.3 in c:\\users\\hp\\anaconda3\\anaconda\\lib\\site-packages (from pandas->bioinfokit) (2021.1)\n",
      "Requirement already satisfied: joblib>=0.11 in c:\\users\\hp\\anaconda3\\anaconda\\lib\\site-packages (from scikit-learn->bioinfokit) (1.0.1)\n",
      "Requirement already satisfied: threadpoolctl>=2.0.0 in c:\\users\\hp\\anaconda3\\anaconda\\lib\\site-packages (from scikit-learn->bioinfokit) (2.1.0)\n",
      "Requirement already satisfied: patsy>=0.5 in c:\\users\\hp\\anaconda3\\anaconda\\lib\\site-packages (from statsmodels->bioinfokit) (0.5.1)\n",
      "Note: you may need to restart the kernel to use updated packages.\n"
     ]
    }
   ],
   "source": [
    "pip install bioinfokit"
   ]
  },
  {
   "cell_type": "code",
   "execution_count": 46,
   "id": "9b52db93",
   "metadata": {},
   "outputs": [],
   "source": [
    "import bioinfokit"
   ]
  },
  {
   "cell_type": "code",
   "execution_count": 47,
   "id": "35dcf8bb",
   "metadata": {},
   "outputs": [],
   "source": [
    "from bioinfokit.analys import stat\n",
    "res = stat()"
   ]
  },
  {
   "cell_type": "code",
   "execution_count": 52,
   "id": "8a1630bd",
   "metadata": {},
   "outputs": [],
   "source": [
    "##res.tukey_hsd(df=dfle, res_var='value', xfac_var='treatments', anova_model='value ~ C(treatments)')\n",
    "##res.tukey_summary"
   ]
  },
  {
   "cell_type": "code",
   "execution_count": 49,
   "id": "5425abc9",
   "metadata": {},
   "outputs": [
    {
     "name": "stderr",
     "output_type": "stream",
     "text": [
      "C:\\Users\\hp\\anaconda3\\anaconda\\lib\\site-packages\\statsmodels\\sandbox\\stats\\multicomp.py:775: UserWarning: FixedFormatter should only be used together with FixedLocator\n",
      "  ax1.set_yticklabels(np.insert(self.groupsunique.astype(str), 0, ''))\n"
     ]
    },
    {
     "data": {
      "text/html": [
       "<table class=\"simpletable\">\n",
       "<caption>Multiple Comparison of Means - Tukey HSD, FWER=0.05</caption>\n",
       "<tr>\n",
       "    <th>group1</th>      <th>group2</th>    <th>meandiff</th>  <th>p-adj</th>  <th>lower</th>   <th>upper</th>  <th>reject</th>\n",
       "</tr>\n",
       "<tr>\n",
       "    <td>Araria</td>       <td>Gaya</td>       <td>0.125</td>  <td>0.0026</td> <td>0.0293</td>  <td>0.2208</td>   <td>True</td> \n",
       "</tr>\n",
       "<tr>\n",
       "    <td>Araria</td>    <td>Muzaffarpur</td>  <td>0.0291</td>    <td>0.9</td>  <td>-0.0532</td> <td>0.1114</td>   <td>False</td>\n",
       "</tr>\n",
       "<tr>\n",
       "    <td>Araria</td>      <td>Nalanda</td>    <td>-0.1294</td> <td>0.0087</td> <td>-0.2381</td> <td>-0.0208</td>  <td>True</td> \n",
       "</tr>\n",
       "<tr>\n",
       "    <td>Araria</td>      <td>Nawada</td>     <td>-0.1564</td>  <td>0.001</td> <td>-0.2651</td> <td>-0.0478</td>  <td>True</td> \n",
       "</tr>\n",
       "<tr>\n",
       "    <td>Araria</td>      <td>Purnea</td>     <td>0.0589</td>  <td>0.4666</td> <td>-0.0322</td> <td>0.1499</td>   <td>False</td>\n",
       "</tr>\n",
       "<tr>\n",
       "    <td>Araria</td>      <td>Rohtas</td>     <td>-0.0469</td> <td>0.7099</td> <td>-0.1394</td> <td>0.0455</td>   <td>False</td>\n",
       "</tr>\n",
       "<tr>\n",
       "     <td>Gaya</td>     <td>Muzaffarpur</td>  <td>-0.0959</td>  <td>0.001</td> <td>-0.1551</td> <td>-0.0368</td>  <td>True</td> \n",
       "</tr>\n",
       "<tr>\n",
       "     <td>Gaya</td>       <td>Nalanda</td>    <td>-0.2545</td>  <td>0.001</td> <td>-0.3469</td> <td>-0.1621</td>  <td>True</td> \n",
       "</tr>\n",
       "<tr>\n",
       "     <td>Gaya</td>       <td>Nawada</td>     <td>-0.2815</td>  <td>0.001</td> <td>-0.3739</td> <td>-0.1891</td>  <td>True</td> \n",
       "</tr>\n",
       "<tr>\n",
       "     <td>Gaya</td>       <td>Purnea</td>     <td>-0.0661</td> <td>0.0848</td> <td>-0.137</td>  <td>0.0047</td>   <td>False</td>\n",
       "</tr>\n",
       "<tr>\n",
       "     <td>Gaya</td>       <td>Rohtas</td>     <td>-0.172</td>   <td>0.001</td> <td>-0.2446</td> <td>-0.0993</td>  <td>True</td> \n",
       "</tr>\n",
       "<tr>\n",
       "  <td>Muzaffarpur</td>   <td>Nalanda</td>    <td>-0.1586</td>  <td>0.001</td> <td>-0.237</td>  <td>-0.0801</td>  <td>True</td> \n",
       "</tr>\n",
       "<tr>\n",
       "  <td>Muzaffarpur</td>   <td>Nawada</td>     <td>-0.1856</td>  <td>0.001</td> <td>-0.264</td>  <td>-0.1071</td>  <td>True</td> \n",
       "</tr>\n",
       "<tr>\n",
       "  <td>Muzaffarpur</td>   <td>Purnea</td>     <td>0.0298</td>   <td>0.583</td> <td>-0.0215</td>  <td>0.081</td>   <td>False</td>\n",
       "</tr>\n",
       "<tr>\n",
       "  <td>Muzaffarpur</td>   <td>Rohtas</td>     <td>-0.0761</td>  <td>0.001</td> <td>-0.1298</td> <td>-0.0223</td>  <td>True</td> \n",
       "</tr>\n",
       "<tr>\n",
       "    <td>Nalanda</td>     <td>Nawada</td>     <td>-0.027</td>    <td>0.9</td>  <td>-0.1328</td> <td>0.0788</td>   <td>False</td>\n",
       "</tr>\n",
       "<tr>\n",
       "    <td>Nalanda</td>     <td>Purnea</td>     <td>0.1883</td>   <td>0.001</td> <td>0.1008</td>  <td>0.2759</td>   <td>True</td> \n",
       "</tr>\n",
       "<tr>\n",
       "    <td>Nalanda</td>     <td>Rohtas</td>     <td>0.0825</td>   <td>0.089</td> <td>-0.0065</td> <td>0.1715</td>   <td>False</td>\n",
       "</tr>\n",
       "<tr>\n",
       "    <td>Nawada</td>      <td>Purnea</td>     <td>0.2153</td>   <td>0.001</td> <td>0.1278</td>  <td>0.3029</td>   <td>True</td> \n",
       "</tr>\n",
       "<tr>\n",
       "    <td>Nawada</td>      <td>Rohtas</td>     <td>0.1095</td>  <td>0.0058</td> <td>0.0205</td>  <td>0.1985</td>   <td>True</td> \n",
       "</tr>\n",
       "<tr>\n",
       "    <td>Purnea</td>      <td>Rohtas</td>     <td>-0.1058</td>  <td>0.001</td> <td>-0.1722</td> <td>-0.0395</td>  <td>True</td> \n",
       "</tr>\n",
       "</table>"
      ],
      "text/plain": [
       "<class 'statsmodels.iolib.table.SimpleTable'>"
      ]
     },
     "execution_count": 49,
     "metadata": {},
     "output_type": "execute_result"
    },
    {
     "data": {
      "image/png": "[encoded data removed]",
      "text/plain": [
       "<Figure size 720x432 with 1 Axes>"
      ]
     },
     "metadata": {},
     "output_type": "display_data"
    }
   ],
   "source": [
    "from statsmodels.stats.multicomp import pairwise_tukeyhsd\n",
    "tukey = pairwise_tukeyhsd(endog =dfle[\"weighted_average\"],groups = dfle[\"Districts\"],alpha = 0.05 )\n",
    "##plt.vlines(x=0.65,ymin= -0.5, ymax=4.5,color=\"red\")\n",
    "tukey.plot_simultaneous()\n",
    "tukey.summary()\n",
    "##plt.savefig(\"an.pdf\")"
   ]
  },
  {
   "cell_type": "code",
   "execution_count": null,
   "id": "d976b98e",
   "metadata": {},
   "outputs": [],
   "source": [
    "## check the hypothesis if education has any impact on mean weighted score "
   ]
  },
  {
   "cell_type": "code",
   "execution_count": 51,
   "id": "f6eee0ef",
   "metadata": {},
   "outputs": [
    {
     "name": "stdout",
     "output_type": "stream",
     "text": [
      "             sum_sq     df         F    PR(>F)\n",
      "Education  0.099093    3.0  3.210993  0.024114\n",
      "Residual   2.016226  196.0       NaN       NaN\n"
     ]
    }
   ],
   "source": [
    "model = ols('weighted_average~Education', data = dfle).fit()\n",
    "anova_result = sm.stats.anova_lm(model, typ=2)\n",
    "print(anova_result)\n",
    "## As p value is very less hence the result is significant "
   ]
  },
  {
   "cell_type": "code",
   "execution_count": 65,
   "id": "74ffa3c0",
   "metadata": {},
   "outputs": [
    {
     "data": {
      "text/plain": [
       "F_onewayResult(statistic=395.35262511777825, pvalue=1.3640342536437278e-61)"
      ]
     },
     "execution_count": 65,
     "metadata": {},
     "output_type": "execute_result"
    }
   ],
   "source": [
    "stats.f_oneway(dfle['weighted_average'],dfle['education'])\n",
    "## F statistics is large and pvalue is small "
   ]
  },
  {
   "cell_type": "code",
   "execution_count": null,
   "id": "5001db2b",
   "metadata": {},
   "outputs": [],
   "source": [
    "## Tukey test to see which pair has caused such a small P value "
   ]
  },
  {
   "cell_type": "code",
   "execution_count": 66,
   "id": "3366fe68",
   "metadata": {},
   "outputs": [
    {
     "name": "stderr",
     "output_type": "stream",
     "text": [
      "C:\\Users\\hp\\anaconda3\\anaconda\\lib\\site-packages\\statsmodels\\sandbox\\stats\\multicomp.py:775: UserWarning: FixedFormatter should only be used together with FixedLocator\n",
      "  ax1.set_yticklabels(np.insert(self.groupsunique.astype(str), 0, ''))\n"
     ]
    },
    {
     "data": {
      "text/html": [
       "<table class=\"simpletable\">\n",
       "<caption>Multiple Comparison of Means - Tukey HSD, FWER=0.05</caption>\n",
       "<tr>\n",
       "  <th>group1</th>  <th>group2</th>  <th>meandiff</th>  <th>p-adj</th>  <th>lower</th>   <th>upper</th> <th>reject</th>\n",
       "</tr>\n",
       "<tr>\n",
       "   <td>10th</td>    <td>12th</td>    <td>0.0523</td>  <td>0.0697</td> <td>-0.0028</td> <td>0.1073</td>  <td>False</td>\n",
       "</tr>\n",
       "<tr>\n",
       "   <td>10th</td>     <td>8th</td>    <td>0.0483</td>  <td>0.0288</td> <td>0.0035</td>   <td>0.093</td>  <td>True</td> \n",
       "</tr>\n",
       "<tr>\n",
       "   <td>10th</td>  <td>Graduate</td>  <td>0.0351</td>  <td>0.4782</td> <td>-0.0281</td> <td>0.0982</td>  <td>False</td>\n",
       "</tr>\n",
       "<tr>\n",
       "   <td>12th</td>     <td>8th</td>    <td>-0.004</td>    <td>0.9</td>  <td>-0.057</td>  <td>0.0489</td>  <td>False</td>\n",
       "</tr>\n",
       "<tr>\n",
       "   <td>12th</td>  <td>Graduate</td>  <td>-0.0172</td>   <td>0.9</td>  <td>-0.0865</td>  <td>0.052</td>  <td>False</td>\n",
       "</tr>\n",
       "<tr>\n",
       "    <td>8th</td>  <td>Graduate</td>  <td>-0.0132</td>   <td>0.9</td>  <td>-0.0746</td> <td>0.0481</td>  <td>False</td>\n",
       "</tr>\n",
       "</table>"
      ],
      "text/plain": [
       "<class 'statsmodels.iolib.table.SimpleTable'>"
      ]
     },
     "execution_count": 66,
     "metadata": {},
     "output_type": "execute_result"
    },
    {
     "data": {
      "image/png": "[encoded data removed]",
      "text/plain": [
       "<Figure size 720x432 with 1 Axes>"
      ]
     },
     "metadata": {},
     "output_type": "display_data"
    }
   ],
   "source": [
    "from statsmodels.stats.multicomp import pairwise_tukeyhsd\n",
    "tukey = pairwise_tukeyhsd(endog =dfle[\"weighted_average\"],groups = dfle[\"Education\"],alpha = 0.05 )\n",
    "tukey.plot_simultaneous()\n",
    "tukey.summary()"
   ]
  },
  {
   "cell_type": "code",
   "execution_count": null,
   "id": "5512a687",
   "metadata": {},
   "outputs": [],
   "source": [
    "## graduates have not scored significantly higher than those who have studied till class 8th "
   ]
  },
  {
   "cell_type": "code",
   "execution_count": 58,
   "id": "04122ab9",
   "metadata": {},
   "outputs": [],
   "source": [
    "## checking for the impact of category on weighted_average "
   ]
  },
  {
   "cell_type": "code",
   "execution_count": 67,
   "id": "ec2975c5",
   "metadata": {},
   "outputs": [
    {
     "name": "stdout",
     "output_type": "stream",
     "text": [
      "            sum_sq     df         F    PR(>F)\n",
      "category  0.025832    1.0  2.447856  0.119282\n",
      "Residual  2.089487  198.0       NaN       NaN\n"
     ]
    }
   ],
   "source": [
    "model = ols('weighted_average~category', data = dfle).fit()\n",
    "anova_result = sm.stats.anova_lm(model, typ=2)\n",
    "print(anova_result)\n",
    "## The impact of category on weighted average score is not statistically significant as p value is large (greater than 0.05)"
   ]
  },
  {
   "cell_type": "code",
   "execution_count": null,
   "id": "874331d2",
   "metadata": {},
   "outputs": [],
   "source": []
  }
 ],
 "metadata": {
  "kernelspec": {
   "display_name": "Python 3",
   "language": "python",
   "name": "python3"
  },
  "language_info": {
   "codemirror_mode": {
    "name": "ipython",
    "version": 3
   },
   "file_extension": ".py",
   "mimetype": "text/x-python",
   "name": "python",
   "nbconvert_exporter": "python",
   "pygments_lexer": "ipython3",
   "version": "3.8.8"
  }
 },
 "nbformat": 4,
 "nbformat_minor": 5
}
